{
 "cells": [
  {
   "cell_type": "markdown",
   "metadata": {},
   "source": [
    "# Analyzing App Market Trends to Maximize User Engagement and Revenue"
   ]
  },
  {
   "cell_type": "markdown",
   "metadata": {},
   "source": [
    "We're working as data analysts for a company that builds Android and iOS mobile apps, and our job is to enable our team of developers to make data-driven decisions with respect to the kind of apps they build.\n",
    "\n",
    "At our company, we only build apps that are free to download and install, and our main source of revenue consists of in-app ads. This means that our revenue for any given app is mostly influenced by the number of users that use our app. Our goal for this project is to analyze data to help our developers understand what kinds of apps are likely to attract more users."
   ]
  },
  {
   "cell_type": "markdown",
   "metadata": {},
   "source": [
    "## Opening and Exploring the Data"
   ]
  },
  {
   "cell_type": "markdown",
   "metadata": {},
   "source": [
    "Collecting data for over 4 million apps requires significant time and money, so we'll analyze a sample instead. To avoid spending resources on collecting new data, we'll use existing datasets. Fortunately, we have two suitable datasets:\n",
    "\n",
    "A dataset of approximately 10,000 Android apps from Google Play, collected in August 2018. \n",
    "Link: https://dq-content.s3.amazonaws.com/350/googleplaystore.csv\n",
    "\n",
    "A dataset of approximately 7,000 iOS apps from the App Store, collected in July 2017. \n",
    "Link: https://dq-content.s3.amazonaws.com/350/AppleStore.csv"
   ]
  },
  {
   "cell_type": "markdown",
   "metadata": {},
   "source": [
    "We'll start by opening and exploring these two data sets."
   ]
  },
  {
   "cell_type": "code",
   "execution_count": 1,
   "metadata": {},
   "outputs": [],
   "source": [
    "from csv import reader\n",
    "\n",
    "# Opening the App Store dataset\n",
    "opened_file = open('AppleStore.csv') \n",
    "read_file = reader(opened_file) \n",
    "ios = list(read_file)\n",
    "ios_header = ios[0]\n",
    "ios = ios[1:]\n",
    "\n",
    "\n",
    "# Opening the Google Play dataset\n",
    "opened_file = open('googleplaystore.csv') \n",
    "read_file = reader(opened_file) \n",
    "android = list(read_file)\n",
    "android_header = android[0]\n",
    "android = android[1:]"
   ]
  },
  {
   "cell_type": "markdown",
   "metadata": {},
   "source": [
    "To make these two data sets easier to explore, we created a function named explore_data() that we can repeatedly use to print rows in a readable way."
   ]
  },
  {
   "cell_type": "code",
   "execution_count": 2,
   "metadata": {},
   "outputs": [
    {
     "name": "stdout",
     "output_type": "stream",
     "text": [
      "['App', 'Category', 'Rating', 'Reviews', 'Size', 'Installs', 'Type', 'Price', 'Content Rating', 'Genres', 'Last Updated', 'Current Ver', 'Android Ver']\n",
      "\n",
      "\n",
      "['Photo Editor & Candy Camera & Grid & ScrapBook', 'ART_AND_DESIGN', '4.1', '159', '19M', '10,000+', 'Free', '0', 'Everyone', 'Art & Design', 'January 7, 2018', '1.0.0', '4.0.3 and up']\n",
      "\n",
      "\n",
      "['Coloring book moana', 'ART_AND_DESIGN', '3.9', '967', '14M', '500,000+', 'Free', '0', 'Everyone', 'Art & Design;Pretend Play', 'January 15, 2018', '2.0.0', '4.0.3 and up']\n",
      "\n",
      "\n",
      "['U Launcher Lite – FREE Live Cool Themes, Hide Apps', 'ART_AND_DESIGN', '4.7', '87510', '8.7M', '5,000,000+', 'Free', '0', 'Everyone', 'Art & Design', 'August 1, 2018', '1.2.4', '4.0.3 and up']\n",
      "\n",
      "\n",
      "['Sketch - Draw & Paint', 'ART_AND_DESIGN', '4.5', '215644', '25M', '50,000,000+', 'Free', '0', 'Teen', 'Art & Design', 'June 8, 2018', 'Varies with device', '4.2 and up']\n",
      "\n",
      "\n",
      "['Pixel Draw - Number Art Coloring Book', 'ART_AND_DESIGN', '4.3', '967', '2.8M', '100,000+', 'Free', '0', 'Everyone', 'Art & Design;Creativity', 'June 20, 2018', '1.1', '4.4 and up']\n",
      "\n",
      "\n",
      "Number of rows: 10841\n",
      "Number of columns: 13\n",
      "['id', 'track_name', 'size_bytes', 'currency', 'price', 'rating_count_tot', 'rating_count_ver', 'user_rating', 'user_rating_ver', 'ver', 'cont_rating', 'prime_genre', 'sup_devices.num', 'ipadSc_urls.num', 'lang.num', 'vpp_lic']\n",
      "\n",
      "\n",
      "['284882215', 'Facebook', '389879808', 'USD', '0.0', '2974676', '212', '3.5', '3.5', '95.0', '4+', 'Social Networking', '37', '1', '29', '1']\n",
      "\n",
      "\n",
      "['389801252', 'Instagram', '113954816', 'USD', '0.0', '2161558', '1289', '4.5', '4.0', '10.23', '12+', 'Photo & Video', '37', '0', '29', '1']\n",
      "\n",
      "\n",
      "['529479190', 'Clash of Clans', '116476928', 'USD', '0.0', '2130805', '579', '4.5', '4.5', '9.24.12', '9+', 'Games', '38', '5', '18', '1']\n",
      "\n",
      "\n",
      "['420009108', 'Temple Run', '65921024', 'USD', '0.0', '1724546', '3842', '4.5', '4.0', '1.6.2', '9+', 'Games', '40', '5', '1', '1']\n",
      "\n",
      "\n",
      "['284035177', 'Pandora - Music & Radio', '130242560', 'USD', '0.0', '1126879', '3594', '4.0', '4.5', '8.4.1', '12+', 'Music', '37', '4', '1', '1']\n",
      "\n",
      "\n",
      "Number of rows: 7197\n",
      "Number of columns: 16\n"
     ]
    }
   ],
   "source": [
    "# Create a function named explore_data()\n",
    "def explore_data(dataset, start, end, rows_and_columns=False):\n",
    "    dataset_slice = dataset[start:end]    \n",
    "    for row in dataset_slice:\n",
    "        print(row)\n",
    "        print('\\n') # adds a new (empty) line after each row\n",
    "\n",
    "    if rows_and_columns:\n",
    "        print('Number of rows:', len(dataset))\n",
    "        print('Number of columns:', len(dataset[0]))\n",
    "\n",
    "# Explore the first 5 rows of the android dataset \n",
    "print(android_header) # First row (header)\n",
    "print('\\n')\n",
    "explore_data(android, 0, 5, True) # From index 0 to 5, print the number of rows and columns in the android dataset. \n",
    "\n",
    "# Explore the first 5 rows of the ios dataset \n",
    "print(ios_header) # First row (header)\n",
    "print('\\n')\n",
    "explore_data(ios, 0, 5, True) # From index 0 to 5, print the number of rows and columns in the ios dataset. \n"
   ]
  },
  {
   "cell_type": "markdown",
   "metadata": {},
   "source": [
    "Our Google Play dataset has 10841 apps and 13 columns. The columns that could help us with our analysis are 'App', 'Category', 'Rating', 'Reviews', 'Installs', 'Type', 'Price', 'Content Rating', 'Genres'.\n",
    "\n",
    "Our App Store dataset has 7197 apps and 16 columns. The columns that could help us with our analysis are 'track_name', 'currency', 'price', 'rating_count_tot', 'rating_count_ver', 'user_rating', 'prime_genre'."
   ]
  },
  {
   "cell_type": "markdown",
   "metadata": {},
   "source": [
    "## Deleting Wrong Data \n",
    "The Google Play dataset has a dedicated discussion section, and we can see that one of the discussions describes an error for wrong rating for entry 10472. This entry has missing 'Rating' and a column shift happened for next columns.\n",
    "\n",
    "Link for discussion section: https://www.kaggle.com/datasets/lava18/google-play-store-apps/discussion/66015\n",
    "\n",
    "Let's determine the index of the row and print the row at that index to check if it's incorrect. We can compare this row with the header and another row that is correct."
   ]
  },
  {
   "cell_type": "code",
   "execution_count": 3,
   "metadata": {},
   "outputs": [
    {
     "name": "stdout",
     "output_type": "stream",
     "text": [
      "['App', 'Category', 'Rating', 'Reviews', 'Size', 'Installs', 'Type', 'Price', 'Content Rating', 'Genres', 'Last Updated', 'Current Ver', 'Android Ver']\n",
      "\n",
      "\n",
      "['Life Made WI-Fi Touchscreen Photo Frame', '1.9', '19', '3.0M', '1,000+', 'Free', '0', 'Everyone', '', 'February 11, 2018', '1.0.19', '4.0 and up']\n",
      "\n",
      "\n",
      "['Paper flowers instructions', 'ART_AND_DESIGN', '4.4', '167', '5.6M', '50,000+', 'Free', '0', 'Everyone', 'Art & Design', 'March 26, 2017', '1.0', '2.3 and up']\n"
     ]
    }
   ],
   "source": [
    "# Check if the index of the row (entry 10472) is incorrect by comparing this row with the header and another row that is correct.\n",
    "print(android_header) \n",
    "print('\\n')\n",
    "print(android[10472])\n",
    "print('\\n')\n",
    "print(android[5])"
   ]
  },
  {
   "cell_type": "markdown",
   "metadata": {},
   "source": [
    "The entry (10472) is not missing 'Rating', instead, it's missing 'Category', and 'Genres' (9th column) is empty. We will have to delete this row."
   ]
  },
  {
   "cell_type": "code",
   "execution_count": 4,
   "metadata": {},
   "outputs": [
    {
     "name": "stdout",
     "output_type": "stream",
     "text": [
      "10841\n",
      "10840\n"
     ]
    }
   ],
   "source": [
    "# Remove entry 10472 from Google Play dataset.\n",
    "print(len(android))\n",
    "del android[10472] # Don't run the del statement more than once, otherwise more than one row will be deleted.\n",
    "print(len(android))"
   ]
  },
  {
   "cell_type": "markdown",
   "metadata": {},
   "source": [
    "## Removing Duplicate Entries: Part 1 \n",
    "If we explore the Google Play data set long enough or look at the discussions section, we'll notice some apps have duplicate entries. For instance, the application Instagram has 4 entries:"
   ]
  },
  {
   "cell_type": "code",
   "execution_count": 5,
   "metadata": {},
   "outputs": [
    {
     "name": "stdout",
     "output_type": "stream",
     "text": [
      "['Instagram', 'SOCIAL', '4.5', '66577313', 'Varies with device', '1,000,000,000+', 'Free', '0', 'Teen', 'Social', 'July 31, 2018', 'Varies with device', 'Varies with device']\n",
      "['Instagram', 'SOCIAL', '4.5', '66577446', 'Varies with device', '1,000,000,000+', 'Free', '0', 'Teen', 'Social', 'July 31, 2018', 'Varies with device', 'Varies with device']\n",
      "['Instagram', 'SOCIAL', '4.5', '66577313', 'Varies with device', '1,000,000,000+', 'Free', '0', 'Teen', 'Social', 'July 31, 2018', 'Varies with device', 'Varies with device']\n",
      "['Instagram', 'SOCIAL', '4.5', '66509917', 'Varies with device', '1,000,000,000+', 'Free', '0', 'Teen', 'Social', 'July 31, 2018', 'Varies with device', 'Varies with device']\n"
     ]
    }
   ],
   "source": [
    "for app in android: \n",
    "    name = app[0]\n",
    "    if name == 'Instagram':\n",
    "        print(app)"
   ]
  },
  {
   "cell_type": "markdown",
   "metadata": {},
   "source": [
    "Let's calculate how many duplicate apps are there in total."
   ]
  },
  {
   "cell_type": "code",
   "execution_count": 6,
   "metadata": {},
   "outputs": [
    {
     "name": "stdout",
     "output_type": "stream",
     "text": [
      "Number of duplicate apps: 1181\n"
     ]
    }
   ],
   "source": [
    "duplicate_apps = []\n",
    "unique_apps = []\n",
    "\n",
    "for app in android:\n",
    "    name = app[0]\n",
    "    if name in unique_apps:\n",
    "        duplicate_apps.append(name)\n",
    "    else:\n",
    "        unique_apps.append(name)\n",
    "        \n",
    "print('Number of duplicate apps:', len(duplicate_apps))"
   ]
  },
  {
   "cell_type": "markdown",
   "metadata": {},
   "source": [
    "In total, there are 1,181 cases where an app appears more than once."
   ]
  },
  {
   "cell_type": "markdown",
   "metadata": {},
   "source": [
    "However, we will not remove the duplicates randomly. If we examine the rows we printed for the Instagram app, the main difference happens on the 4th position of each row, which corresponds to the number of reviews. The different numbers show the data was collected at different times.\n",
    "\n",
    "We can use this information to build a criterion for removing the duplicates. The higher the number of reviews, the more recent the data should be. Rather than removing duplicates randomly, we'll only keep the row with the highest number of reviews and remove the other entries for any given app."
   ]
  },
  {
   "cell_type": "markdown",
   "metadata": {},
   "source": [
    "## Removing Duplicate Entries: Part 2 \n"
   ]
  },
  {
   "cell_type": "markdown",
   "metadata": {},
   "source": [
    "Add conditions to check if the review count contains 'M' or 'K' and converts these strings into their appropriate numerical values by removing the letters and multiplying by the appropriate factor (1,000,000 for 'M' and 1,000 for 'K')."
   ]
  },
  {
   "cell_type": "code",
   "execution_count": 7,
   "metadata": {},
   "outputs": [],
   "source": [
    "def convert_to_float(n_reviews_str):\n",
    "    if 'M' in n_reviews_str:\n",
    "        return float(n_reviews_str.replace('M', '')) * 1e6\n",
    "    elif 'K' in n_reviews_str:\n",
    "        return float(n_reviews_str.replace('K', '')) * 1e3\n",
    "    else:\n",
    "        return float(n_reviews_str)"
   ]
  },
  {
   "cell_type": "markdown",
   "metadata": {},
   "source": [
    "In our previous step, we converted strings like 'M' or 'K' into their appropriate numerical values, now we can create a dictionary where each key is a unique app name and the corresponding dictionary value is the highest number of reviews of that app."
   ]
  },
  {
   "cell_type": "code",
   "execution_count": 8,
   "metadata": {},
   "outputs": [],
   "source": [
    "# Create a dictionary where each key is a unique app name and the corresponding dictionary value is the highest number of reviews of that app.\n",
    "reviews_max = {}\n",
    "for app in android:\n",
    "    name = app[0]\n",
    "    n_reviews = app[3]\n",
    "    \n",
    "    if name in reviews_max and reviews_max[name] < n_reviews: \n",
    "        reviews_max[name] = n_reviews\n",
    "        \n",
    "    elif name not in reviews_max: # Don't use an else clause here, or the number of reviews will be incorrectly updated whenever reviews_max[name] < n_reviews evaluates to False.\n",
    "        reviews_max[name] = n_reviews"
   ]
  },
  {
   "cell_type": "markdown",
   "metadata": {},
   "source": [
    "In total, there are 1,181 cases where an app appears more than once. Therefore, the length of our dictionary (of unique apps) should be equal to the difference between the length of our data set and 1,181."
   ]
  },
  {
   "cell_type": "code",
   "execution_count": 9,
   "metadata": {},
   "outputs": [
    {
     "name": "stdout",
     "output_type": "stream",
     "text": [
      "Expected length: 9659\n",
      "Actual length: 9659\n"
     ]
    }
   ],
   "source": [
    "print('Expected length:', len(android) - 1181)\n",
    "print('Actual length:', len(reviews_max))"
   ]
  },
  {
   "cell_type": "code",
   "execution_count": 10,
   "metadata": {},
   "outputs": [],
   "source": [
    "# Use the dictionary we created above to remove the duplicate rows.\n",
    "android_clean = [] # Store cleaned data set\n",
    "already_added = [] # Store app names\n",
    "\n",
    "for app in android:\n",
    "    name = app[0]\n",
    "    n_reviews = app[3]\n",
    "    if (reviews_max[name]== n_reviews) and (name not in already_added):\n",
    "        android_clean.append(app)\n",
    "        already_added.append(name)\n",
    "\n",
    "# Separate the header and the rest of the data in the android_clean dataset.\n",
    "android_clean_header = android_clean[0]\n",
    "android_clean = android_clean[1:]"
   ]
  },
  {
   "cell_type": "markdown",
   "metadata": {},
   "source": [
    "Let's explore the android_clean dataset using the explore_data() function to ensure everything went as expected. The dataset should have 9,659 rows. "
   ]
  },
  {
   "cell_type": "code",
   "execution_count": 11,
   "metadata": {},
   "outputs": [
    {
     "name": "stdout",
     "output_type": "stream",
     "text": [
      "['U Launcher Lite – FREE Live Cool Themes, Hide Apps', 'ART_AND_DESIGN', '4.7', '87510', '8.7M', '5,000,000+', 'Free', '0', 'Everyone', 'Art & Design', 'August 1, 2018', '1.2.4', '4.0.3 and up']\n",
      "\n",
      "\n",
      "['Sketch - Draw & Paint', 'ART_AND_DESIGN', '4.5', '215644', '25M', '50,000,000+', 'Free', '0', 'Teen', 'Art & Design', 'June 8, 2018', 'Varies with device', '4.2 and up']\n",
      "\n",
      "\n",
      "['Pixel Draw - Number Art Coloring Book', 'ART_AND_DESIGN', '4.3', '967', '2.8M', '100,000+', 'Free', '0', 'Everyone', 'Art & Design;Creativity', 'June 20, 2018', '1.1', '4.4 and up']\n",
      "\n",
      "\n",
      "Number of rows: 9658\n",
      "Number of columns: 13\n"
     ]
    }
   ],
   "source": [
    "explore_data(android_clean, 0, 3, True)"
   ]
  },
  {
   "cell_type": "markdown",
   "metadata": {},
   "source": [
    "In the previous steps, we managed to remove the duplicate app entries in the Google Play dataset. We don't need to do the same for the App Store data because there are no duplicates: "
   ]
  },
  {
   "cell_type": "code",
   "execution_count": 12,
   "metadata": {},
   "outputs": [
    {
     "name": "stdout",
     "output_type": "stream",
     "text": [
      "Number of duplicate apps: 0\n"
     ]
    }
   ],
   "source": [
    "duplicate_apps = []\n",
    "unique_apps = []\n",
    "\n",
    "for app in ios:\n",
    "    name = app[0]\n",
    "    if name in unique_apps:\n",
    "        duplicate_apps.append(name)\n",
    "    else:\n",
    "        unique_apps.append(name)\n",
    "        \n",
    "print('Number of duplicate apps:', len(duplicate_apps))"
   ]
  },
  {
   "cell_type": "markdown",
   "metadata": {},
   "source": [
    "## Removing Non-English Apps: Part One\n",
    "We use English for the apps we develop at our company, and we'd like to analyze only the apps that are designed for an English-speaking audience. \n",
    "\n",
    "However, if we explore the data long enough, we'll find that both datasets have apps with names that suggest they are not designed for an English-speaking audience. Below, we see a couple of examples from both data sets:"
   ]
  },
  {
   "cell_type": "code",
   "execution_count": 13,
   "metadata": {},
   "outputs": [
    {
     "name": "stdout",
     "output_type": "stream",
     "text": [
      "爱奇艺PPS -《欢乐颂2》电视剧热播\n",
      "【脱出ゲーム】絶対に最後までプレイしないで 〜謎解き＆ブロックパズル〜\n",
      "\n",
      "\n",
      "AQ Coach\n",
      "لعبة تقدر تربح DZ\n"
     ]
    }
   ],
   "source": [
    "print(ios[813][1])\n",
    "print(ios[6731][1])\n",
    "print('\\n')\n",
    "print(android_clean[4412][0])\n",
    "print(android_clean[7940][0])"
   ]
  },
  {
   "cell_type": "markdown",
   "metadata": {},
   "source": [
    "The numbers corresponding to the characters we commonly use in an English text are all in the range 0 to 127, according to the ASCII (American Standard Code for Information Interchange) system. Based on this number range, we can build a function that detects whether a character belongs to the set of common English characters or not. "
   ]
  },
  {
   "cell_type": "code",
   "execution_count": 14,
   "metadata": {},
   "outputs": [
    {
     "name": "stdout",
     "output_type": "stream",
     "text": [
      "True\n",
      "False\n",
      "False\n",
      "False\n",
      "False\n",
      "\n",
      "\n",
      "8482\n",
      "128540\n"
     ]
    }
   ],
   "source": [
    "def english_or_not(string):\n",
    "    \n",
    "    for character in string:\n",
    "        if ord(character) > 127:\n",
    "            return False\n",
    "    \n",
    "    return True\n",
    "\n",
    "# Test\n",
    "print(english_or_not('Instagram'))\n",
    "print(english_or_not('Docs To Go™ Free Office Suite'))\n",
    "print(english_or_not('Instachat 😜'))\n",
    "print(english_or_not('爱奇艺PPS -《欢乐颂2》电视剧热播'))\n",
    "print(english_or_not('脱出ゲーム】絶対に最後までプレイしないで 〜謎解き＆ブロックパズル〜'))\n",
    "print('\\n')\n",
    "print(ord('™'))\n",
    "print(ord('😜'))"
   ]
  },
  {
   "cell_type": "markdown",
   "metadata": {},
   "source": [
    "## Removing Non-English Apps: Part 2\n",
    "In the previous step, we wrote a function that detects non-English app names, but we saw that the function couldn't correctly identify certain English app names like 'Docs To Go™ Free Office Suite' and 'Instachat 😜'. This is because emojis and characters like ™ fall outside the ASCII range and have corresponding numbers over 127.\n",
    "\n",
    "If we're going to use the function we've created, we'll lose useful data since many English apps will be incorrectly labeled as non-English.\n",
    "\n",
    "To minimize the impact of data loss, we'll only remove an app if its name has more than three characters with corresponding numbers falling outside the ASCII range:"
   ]
  },
  {
   "cell_type": "code",
   "execution_count": 15,
   "metadata": {},
   "outputs": [
    {
     "name": "stdout",
     "output_type": "stream",
     "text": [
      "True\n",
      "True\n",
      "False\n"
     ]
    }
   ],
   "source": [
    "def english_or_not(string):\n",
    "    non_ascii_count = 0\n",
    "    \n",
    "    for character in string:\n",
    "        if ord(character) > 127:\n",
    "            non_ascii_count += 1\n",
    "    \n",
    "    if non_ascii_count > 3:\n",
    "        return False\n",
    "    else:\n",
    "        return True\n",
    "\n",
    "# Testing\n",
    "print(english_or_not('Docs To Go™ Free Office Suite'))\n",
    "print(english_or_not('Instachat 😜'))\n",
    "print(english_or_not('爱奇艺PPS -《欢乐颂2》电视剧热播'))"
   ]
  },
  {
   "cell_type": "markdown",
   "metadata": {},
   "source": [
    "The function is still not perfect, and very few non-English apps might get past our filter, but this seems good enough at this point in our analysis — we shouldn't spend too much time on optimization at this point."
   ]
  },
  {
   "cell_type": "markdown",
   "metadata": {},
   "source": [
    "Now we'll use the new function to filter out non-English apps from both datasets:"
   ]
  },
  {
   "cell_type": "code",
   "execution_count": 16,
   "metadata": {},
   "outputs": [
    {
     "name": "stdout",
     "output_type": "stream",
     "text": [
      "['284882215', 'Facebook', '389879808', 'USD', '0.0', '2974676', '212', '3.5', '3.5', '95.0', '4+', 'Social Networking', '37', '1', '29', '1']\n",
      "\n",
      "\n",
      "['389801252', 'Instagram', '113954816', 'USD', '0.0', '2161558', '1289', '4.5', '4.0', '10.23', '12+', 'Photo & Video', '37', '0', '29', '1']\n",
      "\n",
      "\n",
      "['529479190', 'Clash of Clans', '116476928', 'USD', '0.0', '2130805', '579', '4.5', '4.5', '9.24.12', '9+', 'Games', '38', '5', '18', '1']\n",
      "\n",
      "\n",
      "Number of rows: 6183\n",
      "Number of columns: 16\n",
      "None\n",
      "\n",
      "\n",
      "['U Launcher Lite – FREE Live Cool Themes, Hide Apps', 'ART_AND_DESIGN', '4.7', '87510', '8.7M', '5,000,000+', 'Free', '0', 'Everyone', 'Art & Design', 'August 1, 2018', '1.2.4', '4.0.3 and up']\n",
      "\n",
      "\n",
      "['Sketch - Draw & Paint', 'ART_AND_DESIGN', '4.5', '215644', '25M', '50,000,000+', 'Free', '0', 'Teen', 'Art & Design', 'June 8, 2018', 'Varies with device', '4.2 and up']\n",
      "\n",
      "\n",
      "['Pixel Draw - Number Art Coloring Book', 'ART_AND_DESIGN', '4.3', '967', '2.8M', '100,000+', 'Free', '0', 'Everyone', 'Art & Design;Creativity', 'June 20, 2018', '1.1', '4.4 and up']\n",
      "\n",
      "\n",
      "Number of rows: 9613\n",
      "Number of columns: 13\n",
      "None\n"
     ]
    }
   ],
   "source": [
    "# Create 2 empty lists for English apps for both data sets.\n",
    "ios_english =[]\n",
    "android_english =[]\n",
    "\n",
    "# Loop through Apple Store dataset.\n",
    "for app in ios:\n",
    "    name = app[1]\n",
    "    if english_or_not(name):\n",
    "        ios_english.append(app)\n",
    "\n",
    "# Loop through Google Play dataset.\n",
    "for app in android_clean:\n",
    "    name = app[0]\n",
    "    if english_or_not(name):\n",
    "        android_english.append(app)\n",
    "        \n",
    "# Explore the datasets and see how many rows we have remaining for each dataset.        \n",
    "print(explore_data(ios_english,0,3,True))\n",
    "print('\\n')\n",
    "print(explore_data(android_english,0,3,True))"
   ]
  },
  {
   "cell_type": "markdown",
   "metadata": {},
   "source": [
    "We can see that we're left with 9614 Android apps and 6183 iOS apps."
   ]
  },
  {
   "cell_type": "markdown",
   "metadata": {},
   "source": [
    "## Isolating the Free Apps\n",
    "As we mentioned in the introduction, we only build apps that are free to download and install, and our main source of revenue consists of in-app ads. Our datasets contain both free and non-free apps; we'll need to isolate only the free apps for our analysis."
   ]
  },
  {
   "cell_type": "code",
   "execution_count": 17,
   "metadata": {},
   "outputs": [
    {
     "name": "stdout",
     "output_type": "stream",
     "text": [
      "8861\n",
      "3222\n"
     ]
    }
   ],
   "source": [
    "# Create 2 empty lists for free apps\n",
    "free_android_apps = []\n",
    "free_ios_apps = []\n",
    "\n",
    "# Loop through Google Play dataset to isolate the free apps in free_android_apps list.\n",
    "for app in android_english:\n",
    "    price = app[7]\n",
    "    if price == '0':\n",
    "        free_android_apps.append(app)\n",
    "        \n",
    "# Loop through Apple Store dataset to isolate the free apps in free_ios_apps list.\n",
    "for app in ios_english:\n",
    "    price = app[4]\n",
    "    if price == '0.0':\n",
    "        free_ios_apps.append(app)\n",
    "        \n",
    "# Check the length of each dataset to see how many apps we have remaining.\n",
    "print(len(free_android_apps))\n",
    "print(len(free_ios_apps))"
   ]
  },
  {
   "cell_type": "markdown",
   "metadata": {},
   "source": [
    "We're left with 8864 Android apps and 3222 iOS apps, which should be enough for our analysis."
   ]
  },
  {
   "cell_type": "markdown",
   "metadata": {},
   "source": [
    "## Most Common Apps by Genre: Part one\n",
    "As we mentioned in the introduction, our goal is to determine the kinds of apps that are likely to attract more users because the number of people using our apps affect our revenue.\n",
    "\n",
    "To minimize risks and overhead, our validation strategy for an app idea has three steps:\n",
    "\n",
    "1. Build a minimal Android version of the app, and add it to Google Play.\n",
    "\n",
    "2. If the app has a good response from users, we develop it further.\n",
    "\n",
    "3. If the app is profitable after six months, we build an iOS version of the app and add it to the App Store.\n",
    "\n",
    "Because our end goal is to add the app on both Google Play and the App Store, we need to find app profiles that are successful in both markets. For instance, a profile that works well for both markets might be a productivity app that makes use of gamification.\n",
    "\n",
    "Let's begin the analysis by determining the most common genres for each market. For this, we'll build a frequency table for the 'prime_genre' column of the App Store data set, and the 'Genres' and 'Category' columns of the Google Play data set."
   ]
  },
  {
   "cell_type": "markdown",
   "metadata": {},
   "source": [
    "## Most Common Apps by Genre: Part two \n",
    "We'll build two functions we can use to analyze the frequency tables:\n",
    "\n",
    "1. One function to generate frequency tables that show percentages\n",
    "\n",
    "2. Another function we can use to display the percentages in a descending order"
   ]
  },
  {
   "cell_type": "code",
   "execution_count": 18,
   "metadata": {},
   "outputs": [],
   "source": [
    "# Create a function named freq_table() that takes in two inputs: dataset (which will be a list of lists) and index (which will be an integer).\n",
    "def freq_table(dataset, index):\n",
    "    table = {}\n",
    "    total = 0\n",
    "    \n",
    "    for row in dataset:\n",
    "        total += 1\n",
    "        value = row[index]\n",
    "        if value in table:\n",
    "            table[value] += 1\n",
    "        else:\n",
    "            table[value] = 1\n",
    "    \n",
    "    table_percentages = {}\n",
    "    for key in table:\n",
    "        percentage = (table[key] / total) * 100\n",
    "        table_percentages[key] = percentage\n",
    "        \n",
    "    return table_percentages\n",
    "\n",
    "# Create a function named display_table() to display the frequency table of the columns prime_genre, Genres, and Category\n",
    "def display_table(dataset, index):\n",
    "    table = freq_table(dataset, index)\n",
    "    table_display = []\n",
    "    for key in table:\n",
    "        key_val_as_tuple = (table[key], key)\n",
    "        table_display.append(key_val_as_tuple)\n",
    "\n",
    "    table_sorted = sorted(table_display, reverse = True)\n",
    "    for entry in table_sorted:\n",
    "        print(entry[1], ':', entry[0])"
   ]
  },
  {
   "cell_type": "markdown",
   "metadata": {},
   "source": [
    "## Most Common Apps by Genre: Part Three\n",
    "We start by examining the frequency table for the prime_genre column of the App Store data set."
   ]
  },
  {
   "cell_type": "code",
   "execution_count": 19,
   "metadata": {},
   "outputs": [
    {
     "name": "stdout",
     "output_type": "stream",
     "text": [
      "Games : 58.16263190564867\n",
      "Entertainment : 7.883302296710118\n",
      "Photo & Video : 4.9658597144630665\n",
      "Education : 3.662321539416512\n",
      "Social Networking : 3.2898820608317814\n",
      "Shopping : 2.60707635009311\n",
      "Utilities : 2.5139664804469275\n",
      "Sports : 2.1415270018621975\n",
      "Music : 2.0484171322160147\n",
      "Health & Fitness : 2.0173805090006205\n",
      "Productivity : 1.7380509000620732\n",
      "Lifestyle : 1.5828677839851024\n",
      "News : 1.3345747982619491\n",
      "Travel : 1.2414649286157666\n",
      "Finance : 1.1173184357541899\n",
      "Weather : 0.8690254500310366\n",
      "Food & Drink : 0.8069522036002483\n",
      "Reference : 0.5586592178770949\n",
      "Business : 0.5276225946617008\n",
      "Book : 0.4345127250155183\n",
      "Navigation : 0.186219739292365\n",
      "Medical : 0.186219739292365\n",
      "Catalogs : 0.12414649286157665\n"
     ]
    }
   ],
   "source": [
    "display_table(free_ios_apps, -5)"
   ]
  },
  {
   "cell_type": "markdown",
   "metadata": {},
   "source": [
    "The most common genre is Games at 58.16%, suggesting a significant focus on entertainment.\n",
    "\n",
    "Other entertainment-related categories include Entertainment (7.88%), Photo & Video (4.97%), Social Networking (3.29%), Music (2.05%), and Sports (2.14%).\n",
    "Combined, these entertainment-focused categories account for roughly 78.49% of the apps.\n",
    "\n",
    "Practical categories include Education (3.66%), Shopping (2.61%), Utilities (2.51%), Health & Fitness (2.02%), Productivity (1.74%), Lifestyle (1.58%), News (1.33%), Travel (1.24%), Finance (1.12%), Weather (0.87%), Food & Drink (0.81%), Reference (0.56%), Business (0.53%), Navigation (0.19%), Medical (0.19%), and Catalogs (0.12%).\n",
    "These categories combined account for 21.51% of the apps."
   ]
  },
  {
   "cell_type": "markdown",
   "metadata": {},
   "source": [
    "Let's continue by examining the Genres and Category columns of the Google Play data set (two columns which seem to be related)."
   ]
  },
  {
   "cell_type": "code",
   "execution_count": 20,
   "metadata": {},
   "outputs": [
    {
     "name": "stdout",
     "output_type": "stream",
     "text": [
      "FAMILY : 18.936914569461685\n",
      "GAME : 9.694165444080802\n",
      "TOOLS : 8.452770567656021\n",
      "BUSINESS : 4.593161042771697\n",
      "LIFESTYLE : 3.9047511567543167\n",
      "PRODUCTIVITY : 3.8934657487868187\n",
      "FINANCE : 3.7016138133393524\n",
      "MEDICAL : 3.521047285859384\n",
      "SPORTS : 3.3969077982169056\n",
      "PERSONALIZATION : 3.317909942444419\n",
      "COMMUNICATION : 3.2389120866719328\n",
      "HEALTH_AND_FITNESS : 3.080916375126961\n",
      "PHOTOGRAPHY : 2.9454914795169844\n",
      "NEWS_AND_MAGAZINES : 2.7987811759395105\n",
      "SOCIAL : 2.663356280329534\n",
      "TRAVEL_AND_LOCAL : 2.3360794492720913\n",
      "SHOPPING : 2.245796185532107\n",
      "BOOKS_AND_REFERENCE : 2.144227513824625\n",
      "DATING : 1.8620923146371742\n",
      "VIDEO_PLAYERS : 1.794379866832186\n",
      "MAPS_AND_NAVIGATION : 1.3993905879697552\n",
      "FOOD_AND_DRINK : 1.2413948764247829\n",
      "EDUCATION : 1.1736824286197944\n",
      "ENTERTAINMENT : 0.9592596772373322\n",
      "LIBRARIES_AND_DEMO : 0.9366888613023362\n",
      "AUTO_AND_VEHICLES : 0.9254034533348381\n",
      "HOUSE_AND_HOME : 0.8238347816273558\n",
      "WEATHER : 0.8012639656923597\n",
      "EVENTS : 0.7109807019523756\n",
      "PARENTING : 0.6545536621148855\n",
      "ART_AND_DESIGN : 0.6319828461798894\n",
      "COMICS : 0.6206974382123914\n",
      "BEAUTY : 0.5981266222773953\n"
     ]
    }
   ],
   "source": [
    "# Category \n",
    "display_table(free_android_apps, 1)"
   ]
  },
  {
   "cell_type": "markdown",
   "metadata": {},
   "source": [
    "The most common category on Google Play is Family, accounting for 18.94% of the apps. Upon closer examination, it becomes evident that this category predominantly comprises games for kids, indicating a strong focus on child-friendly entertainment. The Game category follows at 9.69%, further underscoring the platform's significant interest in entertainment. Other notable entertainment-related categories include Sports (3.40%), Photography (2.95%), Social (2.66%), and Entertainment (0.96%). Combined, these entertainment-focused categories represent approximately 38.64% of the apps."
   ]
  },
  {
   "cell_type": "code",
   "execution_count": 21,
   "metadata": {},
   "outputs": [
    {
     "name": "stdout",
     "output_type": "stream",
     "text": [
      "Tools : 8.441485159688522\n",
      "Entertainment : 6.071549486513937\n",
      "Education : 5.349283376594064\n",
      "Business : 4.593161042771697\n",
      "Productivity : 3.8934657487868187\n",
      "Lifestyle : 3.8934657487868187\n",
      "Finance : 3.7016138133393524\n",
      "Medical : 3.521047285859384\n",
      "Sports : 3.464620246021894\n",
      "Personalization : 3.317909942444419\n",
      "Communication : 3.2389120866719328\n",
      "Action : 3.103487191061957\n",
      "Health & Fitness : 3.080916375126961\n",
      "Photography : 2.9454914795169844\n",
      "News & Magazines : 2.7987811759395105\n",
      "Social : 2.663356280329534\n",
      "Travel & Local : 2.3247940413045933\n",
      "Shopping : 2.245796185532107\n",
      "Books & Reference : 2.144227513824625\n",
      "Simulation : 2.0426588421171425\n",
      "Dating : 1.8620923146371742\n",
      "Arcade : 1.8508069066696762\n",
      "Video Players & Editors : 1.7718090508971898\n",
      "Casual : 1.749238234962194\n",
      "Maps & Navigation : 1.3993905879697552\n",
      "Food & Drink : 1.2413948764247829\n",
      "Puzzle : 1.1285407967498025\n",
      "Racing : 0.9931159011398263\n",
      "Role Playing : 0.9366888613023362\n",
      "Libraries & Demo : 0.9366888613023362\n",
      "Auto & Vehicles : 0.9254034533348381\n",
      "Strategy : 0.91411804536734\n",
      "House & Home : 0.8238347816273558\n",
      "Weather : 0.8012639656923597\n",
      "Events : 0.7109807019523756\n",
      "Adventure : 0.6771244780498815\n",
      "Comics : 0.6094120302448933\n",
      "Beauty : 0.5981266222773953\n",
      "Art & Design : 0.5868412143098972\n",
      "Parenting : 0.49655795056991314\n",
      "Card : 0.440130910732423\n",
      "Casino : 0.42884550276492495\n",
      "Trivia : 0.4175600947974269\n",
      "Educational;Education : 0.3949892788624309\n",
      "Educational : 0.3724184629274348\n",
      "Board : 0.3724184629274348\n",
      "Education;Education : 0.33856223902494076\n",
      "Word : 0.25956438325245457\n",
      "Casual;Pretend Play : 0.23699356731745852\n",
      "Music : 0.20313734341496445\n",
      "Puzzle;Brain Games : 0.1805665274799684\n",
      "Racing;Action & Adventure : 0.16928111951247038\n",
      "Entertainment;Music & Video : 0.16928111951247038\n",
      "Casual;Brain Games : 0.13542489560997628\n",
      "Casual;Action & Adventure : 0.13542489560997628\n",
      "Arcade;Action & Adventure : 0.12413948764247829\n",
      "Action;Action & Adventure : 0.10156867170748222\n",
      "Educational;Pretend Play : 0.0902832637399842\n",
      "Board;Brain Games : 0.0902832637399842\n",
      "Simulation;Action & Adventure : 0.07899785577248618\n",
      "Parenting;Education : 0.07899785577248618\n",
      "Entertainment;Brain Games : 0.07899785577248618\n",
      "Parenting;Music & Video : 0.06771244780498814\n",
      "Educational;Brain Games : 0.06771244780498814\n",
      "Casual;Creativity : 0.06771244780498814\n",
      "Art & Design;Creativity : 0.06771244780498814\n",
      "Education;Pretend Play : 0.05642703983749013\n",
      "Role Playing;Pretend Play : 0.0451416318699921\n",
      "Education;Creativity : 0.0451416318699921\n",
      "Role Playing;Action & Adventure : 0.03385622390249407\n",
      "Puzzle;Action & Adventure : 0.03385622390249407\n",
      "Entertainment;Creativity : 0.03385622390249407\n",
      "Entertainment;Action & Adventure : 0.03385622390249407\n",
      "Educational;Creativity : 0.03385622390249407\n",
      "Educational;Action & Adventure : 0.03385622390249407\n",
      "Education;Music & Video : 0.03385622390249407\n",
      "Education;Brain Games : 0.03385622390249407\n",
      "Education;Action & Adventure : 0.03385622390249407\n",
      "Adventure;Action & Adventure : 0.03385622390249407\n",
      "Video Players & Editors;Music & Video : 0.02257081593499605\n",
      "Sports;Action & Adventure : 0.02257081593499605\n",
      "Simulation;Pretend Play : 0.02257081593499605\n",
      "Puzzle;Creativity : 0.02257081593499605\n",
      "Music;Music & Video : 0.02257081593499605\n",
      "Entertainment;Pretend Play : 0.02257081593499605\n",
      "Casual;Education : 0.02257081593499605\n",
      "Board;Action & Adventure : 0.02257081593499605\n",
      "Video Players & Editors;Creativity : 0.011285407967498025\n",
      "Trivia;Education : 0.011285407967498025\n",
      "Travel & Local;Action & Adventure : 0.011285407967498025\n",
      "Tools;Education : 0.011285407967498025\n",
      "Strategy;Education : 0.011285407967498025\n",
      "Strategy;Creativity : 0.011285407967498025\n",
      "Strategy;Action & Adventure : 0.011285407967498025\n",
      "Simulation;Education : 0.011285407967498025\n",
      "Role Playing;Brain Games : 0.011285407967498025\n",
      "Racing;Pretend Play : 0.011285407967498025\n",
      "Puzzle;Education : 0.011285407967498025\n",
      "Parenting;Brain Games : 0.011285407967498025\n",
      "Music & Audio;Music & Video : 0.011285407967498025\n",
      "Lifestyle;Pretend Play : 0.011285407967498025\n",
      "Lifestyle;Education : 0.011285407967498025\n",
      "Health & Fitness;Education : 0.011285407967498025\n",
      "Health & Fitness;Action & Adventure : 0.011285407967498025\n",
      "Entertainment;Education : 0.011285407967498025\n",
      "Communication;Creativity : 0.011285407967498025\n",
      "Comics;Creativity : 0.011285407967498025\n",
      "Casual;Music & Video : 0.011285407967498025\n",
      "Card;Brain Games : 0.011285407967498025\n",
      "Card;Action & Adventure : 0.011285407967498025\n",
      "Books & Reference;Education : 0.011285407967498025\n",
      "Art & Design;Pretend Play : 0.011285407967498025\n",
      "Art & Design;Action & Adventure : 0.011285407967498025\n",
      "Arcade;Pretend Play : 0.011285407967498025\n",
      "Adventure;Education : 0.011285407967498025\n"
     ]
    }
   ],
   "source": [
    "# Genres\n",
    "display_table(free_android_apps, -4)"
   ]
  },
  {
   "cell_type": "markdown",
   "metadata": {},
   "source": [
    "While it's difficult to tell exactly how the Genres and Category columns differ from one another, we can tell that the Genres column is significantly more detailed due to its larger number of categories. For now, we're only concerned with the broad picture, thus going forward, we'll only be working with the Category column."
   ]
  },
  {
   "cell_type": "markdown",
   "metadata": {},
   "source": [
    "## Most Popular Apps by Genre on the App Store\n",
    "The frequency tables we analyzed on the previous steps showed us that apps designed for fun dominate the App Store, while Google Play shows a more balanced landscape of both practical and fun apps. Now, we'd like to determine the kind of apps with the most users.\n",
    "\n",
    "One way to find out what genres are the most popular (have the most users) is to calculate the average number of installs for each app genre. For the Google Play data set, we can find this information in the Installs column, but this information is missing for the App Store data set. As a workaround, we'll take the total number of user ratings as a proxy, which we can find in the rating_count_tot app.\n",
    "\n",
    "Let's start with calculating the average number of user ratings per app genre on the App Store."
   ]
  },
  {
   "cell_type": "code",
   "execution_count": 22,
   "metadata": {},
   "outputs": [
    {
     "name": "stdout",
     "output_type": "stream",
     "text": [
      "{'Social Networking': 2.3204112824788106, 'Photo & Video': 4.849242740030569, 'Games': 53.66124774211477, 'Music': 1.9174656106711132, 'Reference': 0.8892594136445742, 'Health & Fitness': 2.501042100875365, 'Weather': 1.0004168403501459, 'Utilities': 3.4458802278727245, 'Travel': 1.1254689453939142, 'Shopping': 1.6951507572599693, 'News': 1.0421008753647354, 'Navigation': 0.6391552035570377, 'Lifestyle': 2.0008336807002918, 'Entertainment': 7.433652910935113, 'Food & Drink': 0.8753647353063776, 'Sports': 1.5839933305543976, 'Book': 1.5562039738780047, 'Finance': 1.445046547172433, 'Education': 6.294289287203002, 'Productivity': 2.473252744198972, 'Business': 0.7919966652771988, 'Catalogs': 0.1389467833819647, 'Medical': 0.31957760177851885}\n",
      "Social Networking : 71548.34905660378\n",
      "Photo & Video : 28441.54375\n",
      "Games : 22788.6696905016\n",
      "Music : 57326.530303030304\n",
      "Reference : 74942.11111111111\n",
      "Health & Fitness : 23298.015384615384\n",
      "Weather : 52279.892857142855\n",
      "Utilities : 18684.456790123455\n",
      "Travel : 28243.8\n",
      "Shopping : 26919.690476190477\n",
      "News : 21248.023255813954\n",
      "Navigation : 86090.33333333333\n",
      "Lifestyle : 16485.764705882353\n",
      "Entertainment : 14029.830708661417\n",
      "Food & Drink : 33333.92307692308\n",
      "Sports : 23008.898550724636\n",
      "Book : 39758.5\n",
      "Finance : 31467.944444444445\n",
      "Education : 7003.983050847458\n",
      "Productivity : 21028.410714285714\n",
      "Business : 7491.117647058823\n",
      "Catalogs : 4004.0\n",
      "Medical : 612.0\n"
     ]
    }
   ],
   "source": [
    "# Use the freq_table() function we wrote to generate a frequency table for the prime_genre column to get the unique app genres \n",
    "prime_genre_ios = freq_table(ios, -5)\n",
    "print(prime_genre_ios)\n",
    "\n",
    "# Loop over the unique genres of the App Store dataset.\n",
    "for genre in prime_genre_ios:\n",
    "    total = 0\n",
    "    len_genre = 0\n",
    "    \n",
    "    for app in free_ios_apps:\n",
    "        genre_app = app[-5]\n",
    "        if genre_app == genre:            \n",
    "            n_ratings = float(app[5])\n",
    "            total += n_ratings\n",
    "            len_genre += 1\n",
    "    avg_n_ratings = total / len_genre\n",
    "    print(genre, ':', avg_n_ratings)"
   ]
  },
  {
   "cell_type": "code",
   "execution_count": 23,
   "metadata": {},
   "outputs": [
    {
     "name": "stdout",
     "output_type": "stream",
     "text": [
      "{'Navigation': 86090.33333333333, 'Reference': 74942.11111111111, 'Social Networking': 71548.34905660378, 'Music': 57326.530303030304, 'Weather': 52279.892857142855, 'Book': 39758.5, 'Food & Drink': 33333.92307692308, 'Finance': 31467.944444444445, 'Photo & Video': 28441.54375, 'Travel': 28243.8, 'Shopping': 26919.690476190477, 'Health & Fitness': 23298.015384615384, 'Sports': 23008.898550724636, 'Games': 22788.6696905016, 'News': 21248.023255813954, 'Productivity': 21028.410714285714, 'Utilities': 18684.456790123455, 'Lifestyle': 16485.764705882353, 'Entertainment': 14029.830708661417, 'Business': 7491.117647058823, 'Education': 7003.983050847458, 'Catalogs': 4004.0, 'Medical': 612.0}\n"
     ]
    }
   ],
   "source": [
    "# Import the 'operator' module, which provides functions for common operations like sorting.\n",
    "import operator\n",
    "\n",
    "# Create a dictionary of categories and average number of user ratings\n",
    "ratings = {\n",
    "    \"Social Networking\": 71548.34905660378,\n",
    "    \"Photo & Video\": 28441.54375,\n",
    "    \"Games\": 22788.6696905016,\n",
    "    \"Music\": 57326.530303030304,\n",
    "    \"Reference\": 74942.11111111111,\n",
    "    \"Health & Fitness\": 23298.015384615384,\n",
    "    \"Weather\": 52279.892857142855,\n",
    "    \"Utilities\": 18684.456790123455,\n",
    "    \"Travel\": 28243.8,\n",
    "    \"Shopping\": 26919.690476190477,\n",
    "    \"News\": 21248.023255813954,\n",
    "    \"Navigation\": 86090.33333333333,\n",
    "    \"Lifestyle\": 16485.764705882353,\n",
    "    \"Entertainment\": 14029.830708661417,\n",
    "    \"Food & Drink\": 33333.92307692308,\n",
    "    \"Sports\": 23008.898550724636,\n",
    "    \"Book\": 39758.5,\n",
    "    \"Finance\": 31467.944444444445,\n",
    "    \"Education\": 7003.983050847458,\n",
    "    \"Productivity\": 21028.410714285714,\n",
    "    \"Business\": 7491.117647058823,\n",
    "    \"Catalogs\": 4004.0,\n",
    "    \"Medical\": 612.0\n",
    "}\n",
    "\n",
    "# Sort the dictionary 'ratings' in descending order, and convert the sorted list of key-value pairs back into a dictionary named 'sorted_ratings'\n",
    "sorted_ratings = dict(sorted(ratings.items(), key=operator.itemgetter(1), reverse=True))\n",
    "print(sorted_ratings)"
   ]
  },
  {
   "cell_type": "markdown",
   "metadata": {},
   "source": [
    "We can see that the top 5 most popular apps are 'Navigation','Reference', 'Social Networking', 'Music', and 'Weather'. Among all, navigation apps have the highest number of user reviews of around 86090. However, this figure is heavily influenced by Waze and Google Maps, which have close to half a million user reviews together:"
   ]
  },
  {
   "cell_type": "code",
   "execution_count": 24,
   "metadata": {},
   "outputs": [
    {
     "name": "stdout",
     "output_type": "stream",
     "text": [
      "Waze - GPS Navigation, Maps & Real-time Traffic : 345046\n",
      "Google Maps - Navigation & Transit : 154911\n",
      "Geocaching® : 12811\n",
      "CoPilot GPS – Car Navigation & Offline Maps : 3582\n",
      "ImmobilienScout24: Real Estate Search in Germany : 187\n",
      "Railway Route Search : 5\n"
     ]
    }
   ],
   "source": [
    "for app in free_ios_apps:\n",
    "    if app[-5] == 'Navigation':\n",
    "        print(app[1], ':', app[5]) # print name and number of ratings"
   ]
  },
  {
   "cell_type": "markdown",
   "metadata": {},
   "source": [
    "Similar trends apply to social networking apps, where a small number of dominant players—Facebook, Pinterest, Skype, etc.—have a significant impact on the average quantity. The same applies for music apps, where a small number of major companies greatly influence the average number, such as Shazam, Pandora, and Spotify."
   ]
  },
  {
   "cell_type": "markdown",
   "metadata": {},
   "source": [
    "Though social networking, music, and navigation apps may appear more popular than they actually are, our goal is to identify popular categories. A small number of apps, with hundreds of thousands of user ratings, appear to be skewing the average amount of ratings, and other apps may find it difficult to surpass the 10,000 mark. We'll save this level of information for later. By deleting these incredibly popular apps for each genre, we may obtain a better picture and subsequently adjust the averages."
   ]
  },
  {
   "cell_type": "markdown",
   "metadata": {},
   "source": [
    "Reference apps have 74,942 user ratings on average, but it's actually the Bible and Dictionary.com which skew up the average rating:"
   ]
  },
  {
   "cell_type": "code",
   "execution_count": 25,
   "metadata": {},
   "outputs": [
    {
     "name": "stdout",
     "output_type": "stream",
     "text": [
      "Bible : 985920\n",
      "Dictionary.com Dictionary & Thesaurus : 200047\n",
      "Dictionary.com Dictionary & Thesaurus for iPad : 54175\n",
      "Google Translate : 26786\n",
      "Muslim Pro: Ramadan 2017 Prayer Times, Azan, Quran : 18418\n",
      "New Furniture Mods - Pocket Wiki & Game Tools for Minecraft PC Edition : 17588\n",
      "Merriam-Webster Dictionary : 16849\n",
      "Night Sky : 12122\n",
      "City Maps for Minecraft PE - The Best Maps for Minecraft Pocket Edition (MCPE) : 8535\n",
      "LUCKY BLOCK MOD ™ for Minecraft PC Edition - The Best Pocket Wiki & Mods Installer Tools : 4693\n",
      "GUNS MODS for Minecraft PC Edition - Mods Tools : 1497\n",
      "Guides for Pokémon GO - Pokemon GO News and Cheats : 826\n",
      "WWDC : 762\n",
      "Horror Maps for Minecraft PE - Download The Scariest Maps for Minecraft Pocket Edition (MCPE) Free : 718\n",
      "VPN Express : 14\n",
      "Real Bike Traffic Rider Virtual Reality Glasses : 8\n",
      "教えて!goo : 0\n",
      "Jishokun-Japanese English Dictionary & Translator : 0\n"
     ]
    }
   ],
   "source": [
    "for app in free_ios_apps:\n",
    "    if app[-5] == 'Reference':\n",
    "        print(app[1], ':', app[5])"
   ]
  },
  {
   "cell_type": "markdown",
   "metadata": {},
   "source": [
    "One potential strategy is to convert books into mobile apps, targeting classic novels, literary works, and other ﬁctional and non-ﬁctional content. Another ﬁeld for potential growth is the development of guide apps, with a focus on popular games. \n",
    "\n",
    "This concept aligns with the current landscape of the App Store, which is dominated by for-fun apps. This indicates that the market may be somewhat saturated with for-fun apps, which suggests that a practical app may have a greater opportunity to distinguish itself among the vast number of apps on the App Store."
   ]
  },
  {
   "cell_type": "code",
   "execution_count": 26,
   "metadata": {},
   "outputs": [
    {
     "name": "stdout",
     "output_type": "stream",
     "text": [
      "Facebook : 2974676\n",
      "Pinterest : 1061624\n",
      "Skype for iPhone : 373519\n",
      "Messenger : 351466\n",
      "Tumblr : 334293\n",
      "WhatsApp Messenger : 287589\n",
      "Kik : 260965\n",
      "ooVoo – Free Video Call, Text and Voice : 177501\n",
      "TextNow - Unlimited Text + Calls : 164963\n",
      "Viber Messenger – Text & Call : 164249\n",
      "Followers - Social Analytics For Instagram : 112778\n",
      "MeetMe - Chat and Meet New People : 97072\n",
      "We Heart It - Fashion, wallpapers, quotes, tattoos : 90414\n",
      "InsTrack for Instagram - Analytics Plus More : 85535\n",
      "Tango - Free Video Call, Voice and Chat : 75412\n",
      "LinkedIn : 71856\n",
      "Match™ - #1 Dating App. : 60659\n",
      "Skype for iPad : 60163\n",
      "POF - Best Dating App for Conversations : 52642\n",
      "Timehop : 49510\n",
      "Find My Family, Friends & iPhone - Life360 Locator : 43877\n",
      "Whisper - Share, Express, Meet : 39819\n",
      "Hangouts : 36404\n",
      "LINE PLAY - Your Avatar World : 34677\n",
      "WeChat : 34584\n",
      "Badoo - Meet New People, Chat, Socialize. : 34428\n",
      "Followers + for Instagram - Follower Analytics : 28633\n",
      "GroupMe : 28260\n",
      "Marco Polo Video Walkie Talkie : 27662\n",
      "Miitomo : 23965\n",
      "SimSimi : 23530\n",
      "Grindr - Gay and same sex guys chat, meet and date : 23201\n",
      "Wishbone - Compare Anything : 20649\n",
      "imo video calls and chat : 18841\n",
      "After School - Funny Anonymous School News : 18482\n",
      "Quick Reposter - Repost, Regram and Reshare Photos : 17694\n",
      "Weibo HD : 16772\n",
      "Repost for Instagram : 15185\n",
      "Live.me – Live Video Chat & Make Friends Nearby : 14724\n",
      "Nextdoor : 14402\n",
      "Followers Analytics for Instagram - InstaReport : 13914\n",
      "YouNow: Live Stream Video Chat : 12079\n",
      "FollowMeter for Instagram - Followers Tracking : 11976\n",
      "LINE : 11437\n",
      "eHarmony™ Dating App - Meet Singles : 11124\n",
      "Discord - Chat for Gamers : 9152\n",
      "QQ : 9109\n",
      "Telegram Messenger : 7573\n",
      "Weibo : 7265\n",
      "Periscope - Live Video Streaming Around the World : 6062\n",
      "Chat for Whatsapp - iPad Version : 5060\n",
      "QQ HD : 5058\n",
      "Followers Analysis Tool For Instagram App Free : 4253\n",
      "live.ly - live video streaming : 4145\n",
      "Houseparty - Group Video Chat : 3991\n",
      "SOMA Messenger : 3232\n",
      "Monkey : 3060\n",
      "Down To Lunch : 2535\n",
      "Flinch - Video Chat Staring Contest : 2134\n",
      "Highrise - Your Avatar Community : 2011\n",
      "LOVOO - Dating Chat : 1985\n",
      "PlayStation®Messages : 1918\n",
      "BOO! - Video chat camera with filters & stickers : 1805\n",
      "Qzone : 1649\n",
      "Chatous - Chat with new people : 1609\n",
      "Kiwi - Q&A : 1538\n",
      "GhostCodes - a discovery app for Snapchat : 1313\n",
      "Jodel : 1193\n",
      "FireChat : 1037\n",
      "Google Duo - simple video calling : 1033\n",
      "Fiesta by Tango - Chat & Meet New People : 885\n",
      "Google Allo — smart messaging : 862\n",
      "Peach — share vividly : 727\n",
      "Hey! VINA - Where Women Meet New Friends : 719\n",
      "Battlefield™ Companion : 689\n",
      "All Devices for WhatsApp - Messenger for iPad : 682\n",
      "Chat for Pokemon Go - GoChat : 500\n",
      "IAmNaughty – Dating App to Meet New People Online : 463\n",
      "Qzone HD : 458\n",
      "Zenly - Locate your friends in realtime : 427\n",
      "League of Legends Friends : 420\n",
      "豆瓣 : 407\n",
      "Candid - Speak Your Mind Freely : 398\n",
      "知乎 : 397\n",
      "Selfeo : 366\n",
      "Fake-A-Location Free ™ : 354\n",
      "Popcorn Buzz - Free Group Calls : 281\n",
      "Fam — Group video calling for iMessage : 279\n",
      "QQ International : 274\n",
      "Ameba : 269\n",
      "SoundCloud Pulse: for creators : 240\n",
      "Tantan : 235\n",
      "Cougar Dating & Life Style App for Mature Women : 213\n",
      "Rawr Messenger - Dab your chat : 180\n",
      "WhenToPost: Best Time to Post Photos for Instagram : 158\n",
      "Inke—Broadcast an amazing life : 147\n",
      "Mustknow - anonymous video Q&A : 53\n",
      "CTFxCmoji : 39\n",
      "Lobi : 36\n",
      "Chain: Collaborate On MyVideo Story/Group Video : 35\n",
      "botman - Real time video chat : 7\n",
      "BestieBox : 0\n",
      "MATCH ON LINE chat : 0\n",
      "niconico ch : 0\n",
      "LINE BLOG : 0\n",
      "bit-tube - Live Stream Video Chat : 0\n"
     ]
    }
   ],
   "source": [
    "for app in free_ios_apps:\n",
    "    if app[-5] == 'Social Networking':\n",
    "        print(app[1], ':', app[5])"
   ]
  },
  {
   "cell_type": "code",
   "execution_count": 27,
   "metadata": {},
   "outputs": [
    {
     "name": "stdout",
     "output_type": "stream",
     "text": [
      "Pandora - Music & Radio : 1126879\n",
      "Spotify Music : 878563\n",
      "Shazam - Discover music, artists, videos & lyrics : 402925\n",
      "iHeartRadio – Free Music & Radio Stations : 293228\n",
      "SoundCloud - Music & Audio : 135744\n",
      "Magic Piano by Smule : 131695\n",
      "Smule Sing! : 119316\n",
      "TuneIn Radio - MLB NBA Audiobooks Podcasts Music : 110420\n",
      "Amazon Music : 106235\n",
      "SoundHound Song Search & Music Player : 82602\n",
      "Sonos Controller : 48905\n",
      "Bandsintown Concerts : 30845\n",
      "Karaoke - Sing Karaoke, Unlimited Songs! : 28606\n",
      "My Mixtapez Music : 26286\n",
      "Sing Karaoke Songs Unlimited with StarMaker : 26227\n",
      "Ringtones for iPhone & Ringtone Maker : 25403\n",
      "Musi - Unlimited Music For YouTube : 25193\n",
      "AutoRap by Smule : 18202\n",
      "Spinrilla - Mixtapes For Free : 15053\n",
      "Napster - Top Music & Radio : 14268\n",
      "edjing Mix:DJ turntable to remix and scratch music : 13580\n",
      "Free Music - MP3 Streamer & Playlist Manager Pro : 13443\n",
      "Free Piano app by Yokee : 13016\n",
      "Google Play Music : 10118\n",
      "Certified Mixtapes - Hip Hop Albums & Mixtapes : 9975\n",
      "TIDAL : 7398\n",
      "YouTube Music : 7109\n",
      "Nicki Minaj: The Empire : 5196\n",
      "Sounds app - Music And Friends : 5126\n",
      "SongFlip - Free Music Streamer : 5004\n",
      "Simple Radio - Live AM & FM Radio Stations : 4787\n",
      "Deezer - Listen to your Favorite Music & Playlists : 4677\n",
      "Ringtones for iPhone with Ringtone Maker : 4013\n",
      "Bose SoundTouch : 3687\n",
      "Amazon Alexa : 3018\n",
      "DatPiff : 2815\n",
      "Trebel Music - Unlimited Music Downloader : 2570\n",
      "Free Music Play - Mp3 Streamer & Player : 2496\n",
      "Acapella from PicPlayPost : 2487\n",
      "Coach Guitar - Lessons & Easy Tabs For Beginners : 2416\n",
      "Musicloud - MP3 and FLAC Music Player for Cloud Platforms. : 2211\n",
      "Piano - Play Keyboard Music Games with Magic Tiles : 1636\n",
      "Boom: Best Equalizer & Magical Surround Sound : 1375\n",
      "Music Freedom - Unlimited Free MP3 Music Streaming : 1246\n",
      "AmpMe - A Portable Social Party Music Speaker : 1047\n",
      "Medly - Music Maker : 933\n",
      "Bose Connect : 915\n",
      "Music Memos : 909\n",
      "UE BOOM : 612\n",
      "LiveMixtapes : 555\n",
      "NOISE : 355\n",
      "MP3 Music Player & Streamer for Clouds : 329\n",
      "Musical Video Maker - Create Music clips lip sync : 320\n",
      "Cloud Music Player - Downloader & Playlist Manager : 319\n",
      "Remixlive - Remix loops with pads : 288\n",
      "QQ音乐HD : 224\n",
      "Blocs Wave - Make & Record Music : 158\n",
      "PlayGround • Music At Your Fingertips : 150\n",
      "Music and Chill : 135\n",
      "The Singing Machine Mobile Karaoke App : 130\n",
      "radio.de - Der Radioplayer : 64\n",
      "Free Music -  Player & Streamer  for Dropbox, OneDrive & Google Drive : 46\n",
      "NRJ Radio : 38\n",
      "Smart Music: Streaming Videos and Radio : 17\n",
      "BOSS Tuner : 13\n",
      "PetitLyrics : 0\n"
     ]
    }
   ],
   "source": [
    "for app in free_ios_apps:\n",
    "    if app[-5] == 'Music':\n",
    "        print(app[1], ':', app[5])"
   ]
  },
  {
   "cell_type": "code",
   "execution_count": 28,
   "metadata": {},
   "outputs": [
    {
     "name": "stdout",
     "output_type": "stream",
     "text": [
      "The Weather Channel: Forecast, Radar & Alerts : 495626\n",
      "The Weather Channel App for iPad – best local forecast, radar map, and storm tracking : 208648\n",
      "WeatherBug - Local Weather, Radar, Maps, Alerts : 188583\n",
      "MyRadar NOAA Weather Radar Forecast : 150158\n",
      "AccuWeather - Weather for Life : 144214\n",
      "Yahoo Weather : 112603\n",
      "Weather Underground: Custom Forecast & Local Radar : 49192\n",
      "NOAA Weather Radar - Weather Forecast & HD Radar : 45696\n",
      "Weather Live Free - Weather Forecast & Alerts : 35702\n",
      "Storm Radar : 22792\n",
      "QuakeFeed Earthquake Map, Alerts, and News : 6081\n",
      "Moji Weather - Free Weather Forecast : 2333\n",
      "Hurricane by American Red Cross : 1158\n",
      "Forecast Bar : 375\n",
      "Hurricane Tracker WESH 2 Orlando, Central Florida : 203\n",
      "FEMA : 128\n",
      "iWeather - World weather forecast : 80\n",
      "Weather - Radar - Storm with Morecast App : 78\n",
      "Yurekuru Call : 53\n",
      "Weather & Radar : 37\n",
      "WRAL Weather Alert : 25\n",
      "Météo-France : 24\n",
      "JaxReady : 22\n",
      "Freddy the Frogcaster's Weather Station : 14\n",
      "Almanac Long-Range Weather Forecast : 12\n",
      "TodayAir : 0\n",
      "wetter.com : 0\n",
      "WarnWetter : 0\n"
     ]
    }
   ],
   "source": [
    "for app in free_ios_apps:\n",
    "    if app[-5] == 'Weather':\n",
    "        print(app[1], ':', app[5])"
   ]
  },
  {
   "cell_type": "markdown",
   "metadata": {},
   "source": [
    "Other genres that are popular include 'Social Networking', 'Music', and 'Weather'. We have decided not to develop any apps in these categories. These genres are highly saturated, with numerous well-established players dominating the market. Without a unique selling point, it would be extremely challenging to compete effectively and attract a substantial user base."
   ]
  },
  {
   "cell_type": "markdown",
   "metadata": {},
   "source": [
    "## Most Popular Apps by Genre on Google Play"
   ]
  },
  {
   "cell_type": "code",
   "execution_count": 29,
   "metadata": {
    "scrolled": true
   },
   "outputs": [
    {
     "name": "stdout",
     "output_type": "stream",
     "text": [
      "1,000,000+ : 15.743144114659746\n",
      "100,000+ : 11.556257758717978\n",
      "10,000,000+ : 10.518000225708159\n",
      "10,000+ : 10.190723394650716\n",
      "1,000+ : 8.396343527818532\n",
      "100+ : 6.91795508407629\n",
      "5,000,000+ : 6.838957228303803\n",
      "500,000+ : 5.574991535944025\n",
      "50,000+ : 4.773727570251665\n",
      "5,000+ : 4.51416318699921\n",
      "10+ : 3.5436181017943795\n",
      "500+ : 3.250197494639431\n",
      "50,000,000+ : 2.290937817402099\n",
      "100,000,000+ : 2.1216566978896285\n",
      "50+ : 1.9185193544746644\n",
      "5+ : 0.7899785577248618\n",
      "1+ : 0.5078433585374111\n",
      "500,000,000+ : 0.27084979121995256\n",
      "1,000,000,000+ : 0.22570815934996052\n",
      "0+ : 0.0451416318699921\n",
      "0 : 0.011285407967498025\n"
     ]
    }
   ],
   "source": [
    "# Display Installs columns\n",
    "display_table(free_android_apps, 5)"
   ]
  },
  {
   "cell_type": "markdown",
   "metadata": {},
   "source": [
    "We can see that most values are open-ended (100+, 1,000+, 5,000+, etc.). For instance, we don't know whether an app with 100,000+ installs has 100,000 installs, 200,000, or 350,000. However, we don't need very precise data for our purposes — we only want to find out which app genres attract the most users. \n",
    "\n",
    "We're going to leave the numbers as they are, which means that we'll consider that an app with 100,000+ installs has 100,000 installs, and an app with 1,000,000+ installs has 1,000,000 installs, and so on. \n",
    "\n",
    "To perform computations, however, we'll need to convert each install number from a string to a float. This means we need to remove the commas and the plus characters, or the conversion will fail and cause an error."
   ]
  },
  {
   "cell_type": "markdown",
   "metadata": {},
   "source": [
    "Let's start by generating a frequency table for the Category column of the Google Play dataset to get the unique app genres."
   ]
  },
  {
   "cell_type": "code",
   "execution_count": 30,
   "metadata": {},
   "outputs": [
    {
     "name": "stdout",
     "output_type": "stream",
     "text": [
      "{'ART_AND_DESIGN': 0.6319828461798894, 'AUTO_AND_VEHICLES': 0.9254034533348381, 'BEAUTY': 0.5981266222773953, 'BOOKS_AND_REFERENCE': 2.144227513824625, 'BUSINESS': 4.593161042771697, 'COMICS': 0.6206974382123914, 'COMMUNICATION': 3.2389120866719328, 'DATING': 1.8620923146371742, 'EDUCATION': 1.1736824286197944, 'ENTERTAINMENT': 0.9592596772373322, 'EVENTS': 0.7109807019523756, 'FINANCE': 3.7016138133393524, 'FOOD_AND_DRINK': 1.2413948764247829, 'HEALTH_AND_FITNESS': 3.080916375126961, 'HOUSE_AND_HOME': 0.8238347816273558, 'LIBRARIES_AND_DEMO': 0.9366888613023362, 'LIFESTYLE': 3.9047511567543167, 'GAME': 9.694165444080802, 'FAMILY': 18.936914569461685, 'MEDICAL': 3.521047285859384, 'SOCIAL': 2.663356280329534, 'SHOPPING': 2.245796185532107, 'PHOTOGRAPHY': 2.9454914795169844, 'SPORTS': 3.3969077982169056, 'TRAVEL_AND_LOCAL': 2.3360794492720913, 'TOOLS': 8.452770567656021, 'PERSONALIZATION': 3.317909942444419, 'PRODUCTIVITY': 3.8934657487868187, 'PARENTING': 0.6545536621148855, 'WEATHER': 0.8012639656923597, 'VIDEO_PLAYERS': 1.794379866832186, 'NEWS_AND_MAGAZINES': 2.7987811759395105, 'MAPS_AND_NAVIGATION': 1.3993905879697552}\n",
      "ART_AND_DESIGN : 2021626.7857142857\n",
      "AUTO_AND_VEHICLES : 647317.8170731707\n",
      "BEAUTY : 513151.88679245283\n",
      "BOOKS_AND_REFERENCE : 8767811.894736841\n",
      "BUSINESS : 1712290.1474201474\n",
      "COMICS : 817657.2727272727\n",
      "COMMUNICATION : 38456119.167247385\n",
      "DATING : 854028.8303030303\n",
      "EDUCATION : 1820673.076923077\n",
      "ENTERTAINMENT : 11640705.88235294\n",
      "EVENTS : 253542.22222222222\n",
      "FINANCE : 1387692.475609756\n",
      "FOOD_AND_DRINK : 1924897.7363636363\n",
      "HEALTH_AND_FITNESS : 4188821.9853479853\n",
      "HOUSE_AND_HOME : 1331540.5616438356\n",
      "LIBRARIES_AND_DEMO : 638503.734939759\n",
      "LIFESTYLE : 1437816.2687861272\n",
      "GAME : 15560965.599534342\n",
      "FAMILY : 3694276.334922527\n",
      "MEDICAL : 120616.48717948717\n",
      "SOCIAL : 23253652.127118643\n",
      "SHOPPING : 7036877.311557789\n",
      "PHOTOGRAPHY : 17805627.643678162\n",
      "SPORTS : 3638640.1428571427\n",
      "TRAVEL_AND_LOCAL : 13984077.710144928\n",
      "TOOLS : 10682301.033377837\n",
      "PERSONALIZATION : 5201482.6122448975\n",
      "PRODUCTIVITY : 16787331.344927534\n",
      "PARENTING : 542603.6206896552\n",
      "WEATHER : 5074486.197183099\n",
      "VIDEO_PLAYERS : 24727872.452830188\n",
      "NEWS_AND_MAGAZINES : 9549178.467741935\n",
      "MAPS_AND_NAVIGATION : 4056941.7741935486\n"
     ]
    }
   ],
   "source": [
    "# Use the freq_table() function we wrote to generate a frequency table for the Category column to get the unique app genres \n",
    "category_android = freq_table(free_android_apps, 1)\n",
    "print(category_android)\n",
    "\n",
    "# Loop over the category of the Google Play dataset.\n",
    "for category in category_android:\n",
    "    total = 0\n",
    "    len_category = 0\n",
    "    \n",
    "    for app in free_android_apps:\n",
    "        category_app = app[1]\n",
    "        if category_app == category:    \n",
    "            n_installs = app[5]\n",
    "            n_installs = n_installs.replace('+','')\n",
    "            n_installs = n_installs.replace(',','')\n",
    "            total += float(n_installs)\n",
    "            len_category += 1\n",
    "    avg_n_installs = total / len_category\n",
    "    print(category, ':', avg_n_installs)"
   ]
  },
  {
   "cell_type": "code",
   "execution_count": 31,
   "metadata": {},
   "outputs": [
    {
     "name": "stdout",
     "output_type": "stream",
     "text": [
      "{'COMMUNICATION': 38456119.167247385, 'VIDEO_PLAYERS': 24727872.452830188, 'SOCIAL': 23253652.127118643, 'PHOTOGRAPHY': 17805627.643678162, 'PRODUCTIVITY': 16787331.344927534, 'GAME': 15560965.599534342, 'TRAVEL_AND_LOCAL': 13984077.710144928, 'ENTERTAINMENT': 11640705.88235294, 'TOOLS': 10682301.033377837, 'NEWS_AND_MAGAZINES': 9549178.467741935, 'BOOKS_AND_REFERENCE': 8767811.894736841, 'SHOPPING': 7036877.311557789, 'PERSONALIZATION': 5201482.6122448975, 'WEATHER': 5074486.197183099, 'HEALTH_AND_FITNESS': 4188821.9853479853, 'MAPS_AND_NAVIGATION': 4056941.7741935486, 'FAMILY': 3694276.334922527, 'SPORTS': 3638640.1428571427, 'ART_AND_DESIGN': 2021626.7857142857, 'FOOD_AND_DRINK': 1924897.7363636363, 'EDUCATION': 1820673.076923077, 'BUSINESS': 1712290.1474201474, 'LIFESTYLE': 1437816.2687861272, 'FINANCE': 1387692.475609756, 'HOUSE_AND_HOME': 1331540.5616438356, 'DATING': 854028.8303030303, 'COMICS': 817657.2727272727, 'AUTO_AND_VEHICLES': 647317.8170731707, 'LIBRARIES_AND_DEMO': 638503.734939759, 'PARENTING': 542603.6206896552, 'BEAUTY': 513151.88679245283, 'EVENTS': 253542.22222222222, 'MEDICAL': 120616.48717948717}\n"
     ]
    }
   ],
   "source": [
    "# Import the 'operator' module, which provides functions for common operations like sorting.\n",
    "import operator\n",
    "\n",
    "# Create a dictionary of categories and average number of installs\n",
    "installs = {\n",
    "    'ART_AND_DESIGN' : 2021626.7857142857,\n",
    "    'AUTO_AND_VEHICLES' : 647317.8170731707,\n",
    "    'BEAUTY' : 513151.88679245283,\n",
    "    'BOOKS_AND_REFERENCE' : 8767811.894736841,\n",
    "    'BUSINESS' : 1712290.1474201474,\n",
    "    'COMICS' : 817657.2727272727,\n",
    "    'COMMUNICATION' : 38456119.167247385,\n",
    "    'DATING' : 854028.8303030303,\n",
    "    'EDUCATION' : 1820673.076923077,\n",
    "    'ENTERTAINMENT' : 11640705.88235294,\n",
    "    'EVENTS' : 253542.22222222222,\n",
    "    'FINANCE' : 1387692.475609756,\n",
    "    'FOOD_AND_DRINK' : 1924897.7363636363,\n",
    "    'HEALTH_AND_FITNESS' : 4188821.9853479853,\n",
    "    'HOUSE_AND_HOME' : 1331540.5616438356,\n",
    "    'LIBRARIES_AND_DEMO' : 638503.734939759,\n",
    "    'LIFESTYLE' : 1437816.2687861272,\n",
    "    'GAME' : 15560965.599534342,\n",
    "    'FAMILY' : 3694276.334922527,\n",
    "    'MEDICAL' : 120616.48717948717,\n",
    "    'SOCIAL' : 23253652.127118643,\n",
    "    'SHOPPING' : 7036877.311557789,\n",
    "    'PHOTOGRAPHY' : 17805627.643678162,\n",
    "    'SPORTS' : 3638640.1428571427,\n",
    "    'TRAVEL_AND_LOCAL' : 13984077.710144928,\n",
    "    'TOOLS' : 10682301.033377837,\n",
    "    'PERSONALIZATION' : 5201482.6122448975,\n",
    "    'PRODUCTIVITY' : 16787331.344927534,\n",
    "    'PARENTING' : 542603.6206896552,\n",
    "    'WEATHER' : 5074486.197183099,\n",
    "    'VIDEO_PLAYERS' : 24727872.452830188,\n",
    "    'NEWS_AND_MAGAZINES' : 9549178.467741935,\n",
    "    'MAPS_AND_NAVIGATION' : 4056941.7741935486\n",
    "}\n",
    "\n",
    "# Sort the dictionary 'installs' in descending order, and convert the sorted list of key-value pairs back into a dictionary named 'sorted_installs'\n",
    "sorted_installs = dict(sorted(installs.items(), key=operator.itemgetter(1), reverse=True))\n",
    "print(sorted_installs)"
   ]
  },
  {
   "cell_type": "markdown",
   "metadata": {},
   "source": [
    "We can see that the top 5 most popular apps are 'COMMUNICATION', 'VIDEO_PLAYERS', 'SOCIAL', 'PHOTOGRAPHY', and 'PRODUCTIVITY'. Among all, communication apps have the most installs: 38,456,119. Let's take a closer look at 'COMMUNICATION':"
   ]
  },
  {
   "cell_type": "code",
   "execution_count": 32,
   "metadata": {},
   "outputs": [
    {
     "name": "stdout",
     "output_type": "stream",
     "text": [
      "WhatsApp Messenger : 1,000,000,000+\n",
      "imo beta free calls and text : 100,000,000+\n",
      "Android Messages : 100,000,000+\n",
      "Google Duo - High Quality Video Calls : 500,000,000+\n",
      "Messenger – Text and Video Chat for Free : 1,000,000,000+\n",
      "imo free video calls and chat : 500,000,000+\n",
      "Skype - free IM & video calls : 1,000,000,000+\n",
      "Who : 100,000,000+\n",
      "GO SMS Pro - Messenger, Free Themes, Emoji : 100,000,000+\n",
      "LINE: Free Calls & Messages : 500,000,000+\n",
      "Google Chrome: Fast & Secure : 1,000,000,000+\n",
      "Firefox Browser fast & private : 100,000,000+\n",
      "UC Browser - Fast Download Private & Secure : 500,000,000+\n",
      "Gmail : 1,000,000,000+\n",
      "Hangouts : 1,000,000,000+\n",
      "Messenger Lite: Free Calls & Messages : 100,000,000+\n",
      "Kik : 100,000,000+\n",
      "KakaoTalk: Free Calls & Text : 100,000,000+\n",
      "Opera Mini - fast web browser : 100,000,000+\n",
      "Opera Browser: Fast and Secure : 100,000,000+\n",
      "Telegram : 100,000,000+\n",
      "Truecaller: Caller ID, SMS spam blocking & Dialer : 100,000,000+\n",
      "UC Browser Mini -Tiny Fast Private & Secure : 100,000,000+\n",
      "Viber Messenger : 500,000,000+\n",
      "WeChat : 100,000,000+\n",
      "Yahoo Mail – Stay Organized : 100,000,000+\n",
      "BBM - Free Calls & Messages : 100,000,000+\n"
     ]
    }
   ],
   "source": [
    "for app in free_android_apps:\n",
    "    if app[1] == 'COMMUNICATION' and (app[5] == '1,000,000,000+'\n",
    "                                      or app[5] == '500,000,000+'\n",
    "                                      or app[5] == '100,000,000+'):\n",
    "        print(app[0], ':', app[5])"
   ]
  },
  {
   "cell_type": "markdown",
   "metadata": {},
   "source": [
    "We can see the number of installs (38,456,119) is heavily skewed up by a few apps that have over one billion installs (WhatsApp, Facebook Messenger, Skype, Google Chrome, Gmail, and Hangouts), and a few others with over 100 and 500 million installs."
   ]
  },
  {
   "cell_type": "code",
   "execution_count": 33,
   "metadata": {},
   "outputs": [
    {
     "name": "stdout",
     "output_type": "stream",
     "text": [
      "YouTube : 1,000,000,000+\n",
      "Motorola Gallery : 100,000,000+\n",
      "VLC for Android : 100,000,000+\n",
      "Google Play Movies & TV : 1,000,000,000+\n",
      "MX Player : 500,000,000+\n",
      "Dubsmash : 100,000,000+\n",
      "VivaVideo - Video Editor & Photo Movie : 100,000,000+\n",
      "VideoShow-Video Editor, Video Maker, Beauty Camera : 100,000,000+\n",
      "Motorola FM Radio : 100,000,000+\n"
     ]
    }
   ],
   "source": [
    "for app in free_android_apps:\n",
    "    if app[1] == 'VIDEO_PLAYERS' and (app[5] == '1,000,000,000+'\n",
    "                                      or app[5] == '500,000,000+'\n",
    "                                      or app[5] == '100,000,000+'):\n",
    "        print(app[0], ':', app[5])"
   ]
  },
  {
   "cell_type": "markdown",
   "metadata": {},
   "source": [
    "We see the same pattern for the 'VIDEO_PLAYERS' category, the market is dominated by apps like Youtube, Google Play Movies & TV. \n",
    "\n",
    "The pattern is repeated for social apps (where we have giants like Facebook, Instagram, Google+, etc.), photography apps (Google Photos, PicsArt Photo Studio, LINE Camera, etc.), or productivity apps (Microsoft Word, Dropbox, Google Calendar, Evernote, etc.):"
   ]
  },
  {
   "cell_type": "code",
   "execution_count": 34,
   "metadata": {},
   "outputs": [
    {
     "name": "stdout",
     "output_type": "stream",
     "text": [
      "Facebook : 1,000,000,000+\n",
      "Facebook Lite : 500,000,000+\n",
      "Tumblr : 100,000,000+\n",
      "Pinterest : 100,000,000+\n",
      "Google+ : 1,000,000,000+\n",
      "Badoo - Free Chat & Dating App : 100,000,000+\n",
      "Tango - Live Video Broadcast : 100,000,000+\n",
      "Instagram : 1,000,000,000+\n",
      "Snapchat : 500,000,000+\n",
      "LinkedIn : 100,000,000+\n",
      "Tik Tok - including musical.ly : 100,000,000+\n",
      "BIGO LIVE - Live Stream : 100,000,000+\n",
      "VK : 100,000,000+\n"
     ]
    }
   ],
   "source": [
    "for app in free_android_apps:\n",
    "    if app[1] == 'SOCIAL' and (app[5] == '1,000,000,000+'\n",
    "                                      or app[5] == '500,000,000+'\n",
    "                                      or app[5] == '100,000,000+'):\n",
    "        print(app[0], ':', app[5])"
   ]
  },
  {
   "cell_type": "code",
   "execution_count": 35,
   "metadata": {},
   "outputs": [
    {
     "name": "stdout",
     "output_type": "stream",
     "text": [
      "B612 - Beauty & Filter Camera : 100,000,000+\n",
      "YouCam Makeup - Magic Selfie Makeovers : 100,000,000+\n",
      "Sweet Selfie - selfie camera, beauty cam, photo edit : 100,000,000+\n",
      "Google Photos : 1,000,000,000+\n",
      "Retrica : 100,000,000+\n",
      "Photo Editor Pro : 100,000,000+\n",
      "BeautyPlus - Easy Photo Editor & Selfie Camera : 100,000,000+\n",
      "PicsArt Photo Studio: Collage Maker & Pic Editor : 100,000,000+\n",
      "Photo Collage Editor : 100,000,000+\n",
      "Z Camera - Photo Editor, Beauty Selfie, Collage : 100,000,000+\n",
      "PhotoGrid: Video & Pic Collage Maker, Photo Editor : 100,000,000+\n",
      "Candy Camera - selfie, beauty camera, photo editor : 100,000,000+\n",
      "YouCam Perfect - Selfie Photo Editor : 100,000,000+\n",
      "Camera360: Selfie Photo Editor with Funny Sticker : 100,000,000+\n",
      "S Photo Editor - Collage Maker , Photo Collage : 100,000,000+\n",
      "AR effect : 100,000,000+\n",
      "Cymera Camera- Photo Editor, Filter,Collage,Layout : 100,000,000+\n",
      "LINE Camera - Photo editor : 100,000,000+\n",
      "Photo Editor Collage Maker Pro : 100,000,000+\n"
     ]
    }
   ],
   "source": [
    "for app in free_android_apps:\n",
    "    if app[1] == 'PHOTOGRAPHY' and (app[5] == '1,000,000,000+'\n",
    "                                      or app[5] == '500,000,000+'\n",
    "                                      or app[5] == '100,000,000+'):\n",
    "        print(app[0], ':', app[5])"
   ]
  },
  {
   "cell_type": "code",
   "execution_count": 36,
   "metadata": {},
   "outputs": [
    {
     "name": "stdout",
     "output_type": "stream",
     "text": [
      "Microsoft Word : 500,000,000+\n",
      "Microsoft Outlook : 100,000,000+\n",
      "Microsoft OneDrive : 100,000,000+\n",
      "Microsoft OneNote : 100,000,000+\n",
      "Google Keep : 100,000,000+\n",
      "ES File Explorer File Manager : 100,000,000+\n",
      "Dropbox : 500,000,000+\n",
      "Google Docs : 100,000,000+\n",
      "Microsoft PowerPoint : 100,000,000+\n",
      "Samsung Notes : 100,000,000+\n",
      "SwiftKey Keyboard : 100,000,000+\n",
      "Google Drive : 1,000,000,000+\n",
      "Adobe Acrobat Reader : 100,000,000+\n",
      "Google Sheets : 100,000,000+\n",
      "Microsoft Excel : 100,000,000+\n",
      "WPS Office - Word, Docs, PDF, Note, Slide & Sheet : 100,000,000+\n",
      "Google Slides : 100,000,000+\n",
      "ColorNote Notepad Notes : 100,000,000+\n",
      "Evernote – Organizer, Planner for Notes & Memos : 100,000,000+\n",
      "Google Calendar : 500,000,000+\n",
      "Cloud Print : 500,000,000+\n",
      "CamScanner - Phone PDF Creator : 100,000,000+\n"
     ]
    }
   ],
   "source": [
    "for app in free_android_apps:\n",
    "    if app[1] == 'PRODUCTIVITY' and (app[5] == '1,000,000,000+'\n",
    "                                      or app[5] == '500,000,000+'\n",
    "                                      or app[5] == '100,000,000+'):\n",
    "        print(app[0], ':', app[5])"
   ]
  },
  {
   "cell_type": "markdown",
   "metadata": {},
   "source": [
    "The biggest concern is that these app genres may appear to be more popular than they actually are. Moreover, it appears that a small number of powerful rivals dominate these areas.\n",
    "\n",
    "The books and reference genre also appears to be a popular choice, with an average number of installations of 8,767,811. We believe there is potential for this genre to be successful on the App Store, and our objective is to recommend an app genre that has the potential to be profitable on both the App Store and Google Play. \n",
    "\n",
    "We can take a look at some of the apps from this genre and their number of installs:"
   ]
  },
  {
   "cell_type": "code",
   "execution_count": 37,
   "metadata": {},
   "outputs": [
    {
     "name": "stdout",
     "output_type": "stream",
     "text": [
      "E-Book Read - Read Book for free : 50,000+\n",
      "Download free book with green book : 100,000+\n",
      "Wikipedia : 10,000,000+\n",
      "Cool Reader : 10,000,000+\n",
      "Free Panda Radio Music : 100,000+\n",
      "Book store : 1,000,000+\n",
      "FBReader: Favorite Book Reader : 10,000,000+\n",
      "English Grammar Complete Handbook : 500,000+\n",
      "Free Books - Spirit Fanfiction and Stories : 1,000,000+\n",
      "Google Play Books : 1,000,000,000+\n",
      "AlReader -any text book reader : 5,000,000+\n",
      "Offline English Dictionary : 100,000+\n",
      "Offline: English to Tagalog Dictionary : 500,000+\n",
      "FamilySearch Tree : 1,000,000+\n",
      "Cloud of Books : 1,000,000+\n",
      "Recipes of Prophetic Medicine for free : 500,000+\n",
      "ReadEra – free ebook reader : 1,000,000+\n",
      "Anonymous caller detection : 10,000+\n",
      "Ebook Reader : 5,000,000+\n",
      "Litnet - E-books : 100,000+\n",
      "Read books online : 5,000,000+\n",
      "English to Urdu Dictionary : 500,000+\n",
      "eBoox: book reader fb2 epub zip : 1,000,000+\n",
      "English Persian Dictionary : 500,000+\n",
      "Flybook : 500,000+\n",
      "All Maths Formulas : 1,000,000+\n",
      "Ancestry : 5,000,000+\n",
      "HTC Help : 10,000,000+\n",
      "English translation from Bengali : 100,000+\n",
      "Pdf Book Download - Read Pdf Book : 100,000+\n",
      "Free Book Reader : 100,000+\n",
      "eBoox new: Reader for fb2 epub zip books : 50,000+\n",
      "Only 30 days in English, the guideline is guaranteed : 500,000+\n",
      "Moon+ Reader : 10,000,000+\n",
      "SH-02J Owner's Manual (Android 8.0) : 50,000+\n",
      "English-Myanmar Dictionary : 1,000,000+\n",
      "Golden Dictionary (EN-AR) : 1,000,000+\n",
      "All Language Translator Free : 1,000,000+\n",
      "Azpen eReader : 500,000+\n",
      "URBANO V 02 instruction manual : 100,000+\n",
      "Bible : 100,000,000+\n",
      "C Programs and Reference : 50,000+\n",
      "C Offline Tutorial : 1,000+\n",
      "C Programs Handbook : 50,000+\n",
      "Amazon Kindle : 100,000,000+\n",
      "Aab e Hayat Full Novel : 100,000+\n",
      "Aldiko Book Reader : 10,000,000+\n",
      "Google I/O 2018 : 500,000+\n",
      "R Language Reference Guide : 10,000+\n",
      "Learn R Programming Full : 5,000+\n",
      "R Programing Offline Tutorial : 1,000+\n",
      "Guide for R Programming : 5+\n",
      "Learn R Programming : 10+\n",
      "R Quick Reference Big Data : 1,000+\n",
      "V Made : 100,000+\n",
      "Wattpad 📖 Free Books : 100,000,000+\n",
      "Dictionary - WordWeb : 5,000,000+\n",
      "Guide (for X-MEN) : 100,000+\n",
      "AC Air condition Troubleshoot,Repair,Maintenance : 5,000+\n",
      "AE Bulletins : 1,000+\n",
      "Ae Allah na Dai (Rasa) : 10,000+\n",
      "50000 Free eBooks & Free AudioBooks : 5,000,000+\n",
      "Ag PhD Field Guide : 10,000+\n",
      "Ag PhD Deficiencies : 10,000+\n",
      "Ag PhD Planting Population Calculator : 1,000+\n",
      "Ag PhD Soybean Diseases : 1,000+\n",
      "Fertilizer Removal By Crop : 50,000+\n",
      "A-J Media Vault : 50+\n",
      "Al-Quran (Free) : 10,000,000+\n",
      "Al Quran (Tafsir & by Word) : 500,000+\n",
      "Al Quran Indonesia : 10,000,000+\n",
      "Al'Quran Bahasa Indonesia : 10,000,000+\n",
      "Al Quran Al karim : 1,000,000+\n",
      "Al-Muhaffiz : 50,000+\n",
      "Al Quran : EAlim - Translations & MP3 Offline : 5,000,000+\n",
      "Al-Quran 30 Juz free copies : 500,000+\n",
      "Koran Read &MP3 30 Juz Offline : 1,000,000+\n",
      "Hafizi Quran 15 lines per page : 1,000,000+\n",
      "Quran for Android : 10,000,000+\n",
      "Surah Al-Waqiah : 100,000+\n",
      "Hisnul Al Muslim - Hisn Invocations & Adhkaar : 100,000+\n",
      "Satellite AR : 1,000,000+\n",
      "Audiobooks from Audible : 100,000,000+\n",
      "Kinot & Eichah for Tisha B'Av : 10,000+\n",
      "AW Tozer Devotionals - Daily : 5,000+\n",
      "Tozer Devotional -Series 1 : 1,000+\n",
      "The Pursuit of God : 1,000+\n",
      "AY Sing : 5,000+\n",
      "Ay Hasnain k Nana Milad Naat : 10,000+\n",
      "Ay Mohabbat Teri Khatir Novel : 10,000+\n",
      "Arizona Statutes, ARS (AZ Law) : 1,000+\n",
      "Oxford A-Z of English Usage : 1,000,000+\n",
      "BD Fishpedia : 1,000+\n",
      "BD All Sim Offer : 10,000+\n",
      "Youboox - Livres, BD et magazines : 500,000+\n",
      "B&H Kids AR : 10,000+\n",
      "B y H Niños ES : 5,000+\n",
      "Dictionary.com: Find Definitions for English Words : 10,000,000+\n",
      "English Dictionary - Offline : 10,000,000+\n",
      "Bible KJV : 5,000,000+\n",
      "Borneo Bible, BM Bible : 10,000+\n",
      "MOD Black for BM : 100+\n",
      "BM Box : 1,000+\n",
      "Anime Mod for BM : 100+\n",
      "NOOK: Read eBooks & Magazines : 10,000,000+\n",
      "NOOK Audiobooks : 500,000+\n",
      "NOOK App for NOOK Devices : 500,000+\n",
      "Browsery by Barnes & Noble : 5,000+\n",
      "bp e-store : 1,000+\n",
      "Brilliant Quotes: Life, Love, Family & Motivation : 1,000,000+\n",
      "BR Ambedkar Biography & Quotes : 10,000+\n",
      "BU Alsace : 100+\n",
      "Catholic La Bu Zo Kam : 500+\n",
      "Khrifa Hla Bu (Solfa) : 10+\n",
      "Kristian Hla Bu : 10,000+\n",
      "SA HLA BU : 1,000+\n",
      "Learn SAP BW : 500+\n",
      "Learn SAP BW on HANA : 500+\n",
      "CA Laws 2018 (California Laws and Codes) : 5,000+\n",
      "Bootable Methods(USB-CD-DVD) : 10,000+\n",
      "cloudLibrary : 100,000+\n",
      "SDA Collegiate Quarterly : 500+\n",
      "Sabbath School : 100,000+\n",
      "Cypress College Library : 100+\n",
      "Stats Royale for Clash Royale : 1,000,000+\n",
      "GATE 21 years CS Papers(2011-2018 Solved) : 50+\n",
      "Learn CT Scan Of Head : 5,000+\n",
      "Easy Cv maker 2018 : 10,000+\n",
      "How to Write CV : 100,000+\n",
      "CW Nuclear : 1,000+\n",
      "CY Spray nozzle : 10+\n",
      "BibleRead En Cy Zh Yue : 5+\n",
      "CZ-Help : 5+\n",
      "Modlitební knížka CZ : 500+\n",
      "Guide for DB Xenoverse : 10,000+\n",
      "Guide for DB Xenoverse 2 : 10,000+\n",
      "Guide for IMS DB : 10+\n",
      "DC HSEMA : 5,000+\n",
      "DC Public Library : 1,000+\n",
      "Painting Lulu DC Super Friends : 1,000+\n",
      "Dictionary : 10,000,000+\n",
      "Fix Error Google Playstore : 1,000+\n",
      "D. H. Lawrence Poems FREE : 1,000+\n",
      "Bilingual Dictionary Audio App : 5,000+\n",
      "DM Screen : 10,000+\n",
      "wikiHow: how to do anything : 1,000,000+\n",
      "Dr. Doug's Tips : 1,000+\n",
      "Bible du Semeur-BDS (French) : 50,000+\n",
      "La citadelle du musulman : 50,000+\n",
      "DV 2019 Entry Guide : 10,000+\n",
      "DV 2019 - EDV Photo & Form : 50,000+\n",
      "DV 2018 Winners Guide : 1,000+\n",
      "EB Annual Meetings : 1,000+\n",
      "EC - AP & Telangana : 5,000+\n",
      "TN Patta Citta & EC : 10,000+\n",
      "AP Stamps and Registration : 10,000+\n",
      "CompactiMa EC pH Calibration : 100+\n",
      "EGW Writings 2 : 100,000+\n",
      "EGW Writings : 1,000,000+\n",
      "Bible with EGW Comments : 100,000+\n",
      "My Little Pony AR Guide : 1,000,000+\n",
      "SDA Sabbath School Quarterly : 500,000+\n",
      "Duaa Ek Ibaadat : 5,000+\n",
      "Spanish English Translator : 10,000,000+\n",
      "Dictionary - Merriam-Webster : 10,000,000+\n",
      "JW Library : 10,000,000+\n",
      "Oxford Dictionary of English : Free : 10,000,000+\n",
      "English Hindi Dictionary : 10,000,000+\n",
      "English to Hindi Dictionary : 5,000,000+\n",
      "EP Research Service : 1,000+\n",
      "Hymnes et Louanges : 100,000+\n",
      "EU Charter : 1,000+\n",
      "EU Data Protection : 1,000+\n",
      "EU IP Codes : 100+\n",
      "EW PDF : 5+\n",
      "BakaReader EX : 100,000+\n",
      "EZ Quran : 50,000+\n",
      "FA Part 1 & 2 Past Papers Solved Free – Offline : 5,000+\n",
      "La Fe de Jesus : 1,000+\n",
      "La Fe de Jesús : 500+\n",
      "Le Fe de Jesus : 500+\n",
      "Florida - Pocket Brainbook : 1,000+\n",
      "Florida Statutes (FL Code) : 1,000+\n",
      "English To Shona Dictionary : 10,000+\n",
      "Greek Bible FP (Audio) : 1,000+\n",
      "Golden Dictionary (FR-AR) : 500,000+\n",
      "Fanfic-FR : 5,000+\n",
      "Bulgarian French Dictionary Fr : 10,000+\n",
      "Chemin (fr) : 1,000+\n",
      "The SCP Foundation DB fr nn5n : 1,000+\n"
     ]
    }
   ],
   "source": [
    "for app in free_android_apps:\n",
    "    if app[1] == 'BOOKS_AND_REFERENCE':\n",
    "        print(app[0], ':', app[5])"
   ]
  },
  {
   "cell_type": "code",
   "execution_count": 38,
   "metadata": {},
   "outputs": [
    {
     "name": "stdout",
     "output_type": "stream",
     "text": [
      "Google Play Books : 1,000,000,000+\n",
      "Bible : 100,000,000+\n",
      "Amazon Kindle : 100,000,000+\n",
      "Wattpad 📖 Free Books : 100,000,000+\n",
      "Audiobooks from Audible : 100,000,000+\n"
     ]
    }
   ],
   "source": [
    "for app in free_android_apps:\n",
    "    if app[1] == 'BOOKS_AND_REFERENCE' and (app[5] == '1,000,000,000+'\n",
    "                                            or app[5] == '500,000,000+'\n",
    "                                            or app[5] == '100,000,000+'):\n",
    "        print(app[0], ':', app[5])"
   ]
  },
  {
   "cell_type": "markdown",
   "metadata": {},
   "source": [
    "We can see that there's still a small number of extremely popular apps like Google Play Books, Amazon Kindle, that skew the average. However, it looks like there are only a few very popular apps, so this market still shows potential. \n",
    "\n",
    "Let's try to get some app ideas based on the kind of apps that are somewhere in the middle in terms of popularity (between 5,000,000 and 100,000,000 downloads)."
   ]
  },
  {
   "cell_type": "code",
   "execution_count": 39,
   "metadata": {},
   "outputs": [
    {
     "name": "stdout",
     "output_type": "stream",
     "text": [
      "Wikipedia : 10,000,000+\n",
      "Cool Reader : 10,000,000+\n",
      "FBReader: Favorite Book Reader : 10,000,000+\n",
      "AlReader -any text book reader : 5,000,000+\n",
      "Ebook Reader : 5,000,000+\n",
      "Read books online : 5,000,000+\n",
      "Ancestry : 5,000,000+\n",
      "HTC Help : 10,000,000+\n",
      "Moon+ Reader : 10,000,000+\n",
      "Aldiko Book Reader : 10,000,000+\n",
      "Dictionary - WordWeb : 5,000,000+\n",
      "50000 Free eBooks & Free AudioBooks : 5,000,000+\n",
      "Al-Quran (Free) : 10,000,000+\n",
      "Al Quran Indonesia : 10,000,000+\n",
      "Al'Quran Bahasa Indonesia : 10,000,000+\n",
      "Al Quran : EAlim - Translations & MP3 Offline : 5,000,000+\n",
      "Quran for Android : 10,000,000+\n",
      "Dictionary.com: Find Definitions for English Words : 10,000,000+\n",
      "English Dictionary - Offline : 10,000,000+\n",
      "Bible KJV : 5,000,000+\n",
      "NOOK: Read eBooks & Magazines : 10,000,000+\n",
      "Dictionary : 10,000,000+\n",
      "Spanish English Translator : 10,000,000+\n",
      "Dictionary - Merriam-Webster : 10,000,000+\n",
      "JW Library : 10,000,000+\n",
      "Oxford Dictionary of English : Free : 10,000,000+\n",
      "English Hindi Dictionary : 10,000,000+\n",
      "English to Hindi Dictionary : 5,000,000+\n"
     ]
    }
   ],
   "source": [
    "for app in free_android_apps:\n",
    "    if app[1] == 'BOOKS_AND_REFERENCE' and (app[5] == '5,000,000+'\n",
    "                                            or app[5] == '10,000,000+'\n",
    "                                            or app[5] == '50,000,000+'):\n",
    "        print(app[0], ':', app[5])"
   ]
  },
  {
   "cell_type": "markdown",
   "metadata": {},
   "source": [
    "The market for this niche is dominated by softwares for processing and reading e-books, as well as various collections of libraries and dictionaries. Given the intense competition in this space, it is unlikely that developing similar apps would be a viable business strategy."
   ]
  },
  {
   "cell_type": "markdown",
   "metadata": {},
   "source": [
    "We also notice there are quite a few apps built around the book Quran, which suggests that building an app around a popular book can be profitable. It seems that taking a popular book and turning it into an app could be profitable for both the Google Play and the App Store markets.\n",
    "\n",
    "However, it looks like the market is already full of libraries, so we need to add some special features besides the raw version of the book."
   ]
  },
  {
   "cell_type": "markdown",
   "metadata": {},
   "source": [
    "# Conclusions\n",
    "In this project, we aimed to find mobile app profiles that are profitable for the App Store and Google Play markets.\n",
    "\n",
    "We came to the conclusion that creating an app based on a well-known book—classic novels, literary works, and other fictional and non-fictional content—might be lucrative for both the Google Play and App Store marketplaces. We need to provide some additional features in addition to the book's raw version because the markets are already crowded with libraries. Daily quotes from the book, an audio version of the book, a discussion forum, and so on might all fall under this category."
   ]
  }
 ],
 "metadata": {
  "kernelspec": {
   "display_name": "Python 3",
   "language": "python",
   "name": "python3"
  },
  "language_info": {
   "codemirror_mode": {
    "name": "ipython",
    "version": 3
   },
   "file_extension": ".py",
   "mimetype": "text/x-python",
   "name": "python",
   "nbconvert_exporter": "python",
   "pygments_lexer": "ipython3",
   "version": "3.8.2"
  }
 },
 "nbformat": 4,
 "nbformat_minor": 2
}
